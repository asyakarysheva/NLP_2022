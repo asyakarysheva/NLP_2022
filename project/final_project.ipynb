{
  "cells": [
    {
      "cell_type": "markdown",
      "source": [
        "# Загрузка и установка необходимых библиотек"
      ],
      "metadata": {
        "id": "r4E31VAOE4gF"
      },
      "id": "r4E31VAOE4gF"
    },
    {
      "cell_type": "code",
      "source": [
        "! pip install stanza"
      ],
      "metadata": {
        "colab": {
          "base_uri": "https://localhost:8080/"
        },
        "id": "cLKfTw5RHeGz",
        "outputId": "29a3ac34-4e9f-46f9-cff9-81add7267db9"
      },
      "id": "cLKfTw5RHeGz",
      "execution_count": null,
      "outputs": [
        {
          "output_type": "stream",
          "name": "stdout",
          "text": [
            "Looking in indexes: https://pypi.org/simple, https://us-python.pkg.dev/colab-wheels/public/simple/\n",
            "Collecting stanza\n",
            "  Downloading stanza-1.4.2-py3-none-any.whl (691 kB)\n",
            "\u001b[K     |████████████████████████████████| 691 kB 4.6 MB/s \n",
            "\u001b[?25hCollecting emoji\n",
            "  Downloading emoji-2.2.0.tar.gz (240 kB)\n",
            "\u001b[K     |████████████████████████████████| 240 kB 71.7 MB/s \n",
            "\u001b[?25hRequirement already satisfied: numpy in /usr/local/lib/python3.8/dist-packages (from stanza) (1.21.6)\n",
            "Requirement already satisfied: six in /usr/local/lib/python3.8/dist-packages (from stanza) (1.15.0)\n",
            "Requirement already satisfied: requests in /usr/local/lib/python3.8/dist-packages (from stanza) (2.23.0)\n",
            "Requirement already satisfied: tqdm in /usr/local/lib/python3.8/dist-packages (from stanza) (4.64.1)\n",
            "Requirement already satisfied: torch>=1.3.0 in /usr/local/lib/python3.8/dist-packages (from stanza) (1.13.0+cu116)\n",
            "Requirement already satisfied: protobuf in /usr/local/lib/python3.8/dist-packages (from stanza) (3.19.6)\n",
            "Requirement already satisfied: typing-extensions in /usr/local/lib/python3.8/dist-packages (from torch>=1.3.0->stanza) (4.4.0)\n",
            "Requirement already satisfied: certifi>=2017.4.17 in /usr/local/lib/python3.8/dist-packages (from requests->stanza) (2022.12.7)\n",
            "Requirement already satisfied: urllib3!=1.25.0,!=1.25.1,<1.26,>=1.21.1 in /usr/local/lib/python3.8/dist-packages (from requests->stanza) (1.24.3)\n",
            "Requirement already satisfied: idna<3,>=2.5 in /usr/local/lib/python3.8/dist-packages (from requests->stanza) (2.10)\n",
            "Requirement already satisfied: chardet<4,>=3.0.2 in /usr/local/lib/python3.8/dist-packages (from requests->stanza) (3.0.4)\n",
            "Building wheels for collected packages: emoji\n",
            "  Building wheel for emoji (setup.py) ... \u001b[?25l\u001b[?25hdone\n",
            "  Created wheel for emoji: filename=emoji-2.2.0-py3-none-any.whl size=234926 sha256=74f9164c857eb79ad6726ac53a556c7735a11868c2197a9b67a891fd2b52ec87\n",
            "  Stored in directory: /root/.cache/pip/wheels/86/62/9e/a6b27a681abcde69970dbc0326ff51955f3beac72f15696984\n",
            "Successfully built emoji\n",
            "Installing collected packages: emoji, stanza\n",
            "Successfully installed emoji-2.2.0 stanza-1.4.2\n"
          ]
        }
      ]
    },
    {
      "cell_type": "code",
      "source": [
        "! pip install dostoevsky"
      ],
      "metadata": {
        "colab": {
          "base_uri": "https://localhost:8080/"
        },
        "id": "YLA9cJo9TlFT",
        "outputId": "977a95c9-4d9d-45a6-e8ac-58fa0341868c"
      },
      "id": "YLA9cJo9TlFT",
      "execution_count": null,
      "outputs": [
        {
          "output_type": "stream",
          "name": "stdout",
          "text": [
            "Looking in indexes: https://pypi.org/simple, https://us-python.pkg.dev/colab-wheels/public/simple/\n",
            "Collecting dostoevsky\n",
            "  Downloading dostoevsky-0.6.0-py2.py3-none-any.whl (8.5 kB)\n",
            "Collecting razdel==0.5.0\n",
            "  Downloading razdel-0.5.0-py3-none-any.whl (21 kB)\n",
            "Collecting fasttext==0.9.2\n",
            "  Downloading fasttext-0.9.2.tar.gz (68 kB)\n",
            "\u001b[K     |████████████████████████████████| 68 kB 3.7 MB/s \n",
            "\u001b[?25hCollecting pybind11>=2.2\n",
            "  Using cached pybind11-2.10.1-py3-none-any.whl (216 kB)\n",
            "Requirement already satisfied: setuptools>=0.7.0 in /usr/local/lib/python3.8/dist-packages (from fasttext==0.9.2->dostoevsky) (57.4.0)\n",
            "Requirement already satisfied: numpy in /usr/local/lib/python3.8/dist-packages (from fasttext==0.9.2->dostoevsky) (1.21.6)\n",
            "Building wheels for collected packages: fasttext\n",
            "  Building wheel for fasttext (setup.py) ... \u001b[?25l\u001b[?25hdone\n",
            "  Created wheel for fasttext: filename=fasttext-0.9.2-cp38-cp38-linux_x86_64.whl size=3128297 sha256=facb3d8354bf2c9640a2e235379638322a16869a452df0ad631a5c5af71ca3c0\n",
            "  Stored in directory: /root/.cache/pip/wheels/93/61/2a/c54711a91c418ba06ba195b1d78ff24fcaad8592f2a694ac94\n",
            "Successfully built fasttext\n",
            "Installing collected packages: pybind11, razdel, fasttext, dostoevsky\n",
            "Successfully installed dostoevsky-0.6.0 fasttext-0.9.2 pybind11-2.10.1 razdel-0.5.0\n"
          ]
        }
      ]
    },
    {
      "cell_type": "code",
      "execution_count": null,
      "id": "e3c8b322",
      "metadata": {
        "colab": {
          "base_uri": "https://localhost:8080/",
          "height": 206,
          "referenced_widgets": [
            "94bdd5b2b9df4d7facf8b6a120eda083",
            "a09db47bb9f4480587adf84b7e676721",
            "f8844c471390498fbe48b35a31c2ae32",
            "dc6b4ad5bb7f4db68b399782c9307310",
            "badb8596ec26430bbfc48dcc6f97e4f8",
            "71e34844660349ea932d97ce51b27315",
            "d9cdf229ee354d53876d0a13cafa1aba",
            "7388f81514d9423e81a8fdd36da42cd8",
            "c2574a7b384d437ea618d3c59da437dd",
            "7ab098ce39f544ccbeecd527f5b369b4",
            "40e440b342d54414bf724a5556aec58a",
            "8d52eab6a6b9454fa34b5a05fec72c5a",
            "d553503296584d40ac3dc343b2d18da0",
            "3026408478ce419b81560f70f3b1ffb4",
            "e6d198f6bf3b412b8b230412210881d9",
            "e3dbe53c5348418a8b939aee00e16631",
            "8aaa34c2152e4d2d86264ba8ed14ad9e",
            "ccd87c26c6c54be8bf530a9bfd31e863",
            "0a7f45f664ca48eebd34358fd6690b0b",
            "ec985ca048e844e089e2e05b26c14af3",
            "96ffa93d3c934146a4e73cd57edc91b9",
            "56109e37eba54344a0b8af856f2498c9"
          ]
        },
        "id": "e3c8b322",
        "outputId": "776cb5d2-8799-4537-d4a1-f8b1562ae541"
      },
      "outputs": [
        {
          "output_type": "display_data",
          "data": {
            "text/plain": [
              "Downloading https://raw.githubusercontent.com/stanfordnlp/stanza-resources/main/resources_1.4.1.json:   0%|   …"
            ],
            "application/vnd.jupyter.widget-view+json": {
              "version_major": 2,
              "version_minor": 0,
              "model_id": "94bdd5b2b9df4d7facf8b6a120eda083"
            }
          },
          "metadata": {}
        },
        {
          "output_type": "stream",
          "name": "stderr",
          "text": [
            "INFO:stanza:Downloading default packages for language: ru (Russian) ...\n"
          ]
        },
        {
          "output_type": "display_data",
          "data": {
            "text/plain": [
              "Downloading https://huggingface.co/stanfordnlp/stanza-ru/resolve/v1.4.1/models/default.zip:   0%|          | 0…"
            ],
            "application/vnd.jupyter.widget-view+json": {
              "version_major": 2,
              "version_minor": 0,
              "model_id": "8d52eab6a6b9454fa34b5a05fec72c5a"
            }
          },
          "metadata": {}
        },
        {
          "output_type": "stream",
          "name": "stderr",
          "text": [
            "INFO:stanza:Finished downloading models and saved to /root/stanza_resources.\n",
            "[nltk_data] Downloading package stopwords to /root/nltk_data...\n",
            "[nltk_data]   Unzipping corpora/stopwords.zip.\n"
          ]
        }
      ],
      "source": [
        "import pandas as pd\n",
        "import stanza\n",
        "stanza.download('ru')\n",
        "import nltk\n",
        "nltk.download('stopwords')\n",
        "from nltk.corpus import stopwords\n",
        "import string\n",
        "from tqdm import tqdm\n",
        "from collections import Counter, defaultdict\n",
        "import matplotlib.pyplot as plt\n",
        "import seaborn as sns\n",
        "import numpy as np\n",
        "import gensim.downloader\n",
        "import re\n",
        "from dostoevsky.tokenization import RegexTokenizer\n",
        "from dostoevsky.models import FastTextSocialNetworkModel"
      ]
    },
    {
      "cell_type": "markdown",
      "source": [
        "# Загрузка данных"
      ],
      "metadata": {
        "id": "JN44lOvjE9lU"
      },
      "id": "JN44lOvjE9lU"
    },
    {
      "cell_type": "code",
      "source": [
        "from google.colab import drive\n",
        "drive.mount('/content/drive')"
      ],
      "metadata": {
        "colab": {
          "base_uri": "https://localhost:8080/"
        },
        "id": "VRq4rTJXIWa3",
        "outputId": "52ddb9e8-b7a3-4d01-c6c9-5a16a014bb56"
      },
      "id": "VRq4rTJXIWa3",
      "execution_count": null,
      "outputs": [
        {
          "output_type": "stream",
          "name": "stdout",
          "text": [
            "Mounted at /content/drive\n"
          ]
        }
      ]
    },
    {
      "cell_type": "code",
      "execution_count": null,
      "id": "c330ac81",
      "metadata": {
        "id": "c330ac81"
      },
      "outputs": [],
      "source": [
        "train_asp = pd.read_csv(\n",
        "    'train_split_aspects.txt', \n",
        "    delimiter='\\t', \n",
        "    names=['text_id', 'category', 'mention', 'start', 'end', 'sentiment']\n",
        ")\n",
        "train_texts = pd.read_csv('train_split_reviews.txt', delimiter='\\t', names=['text_id','text'])"
      ]
    },
    {
      "cell_type": "markdown",
      "source": [
        "Чтобы узнать объём тренировочной выборки:"
      ],
      "metadata": {
        "id": "Qzhdz9UAyeEy"
      },
      "id": "Qzhdz9UAyeEy"
    },
    {
      "cell_type": "code",
      "source": [
        "nlp = stanza.Pipeline('ru', processors='tokenize,lemma', use_gpu = True)\n",
        "\n",
        "def tokenize(text):\n",
        "    doc = nlp(text)\n",
        "    words = []\n",
        "    for sent in doc.sentences:\n",
        "        for word in sent.words:\n",
        "            words.append(word.lemma)\n",
        "    return words"
      ],
      "metadata": {
        "colab": {
          "base_uri": "https://localhost:8080/",
          "height": 323,
          "referenced_widgets": [
            "918d2ceef1ce4d2fb5e7dbce56075a15",
            "9bc8c2db0efd41619679560ab14675a8",
            "83b23691a38041db90afefa58935a076",
            "5e3369f98417492381489561b32fe5eb",
            "dc319308a0544741979db59fd32c8dcf",
            "38843d8d09304e189ab9765351a59c52",
            "8cd1a04679344855a19baf1afc5a8705",
            "c8a945b9467a4923b145fbae6fe4801b",
            "12e8b67f0718485482578d580a7c292a",
            "df557b5ee6b94346ab684a898f18810e",
            "38a5c184efd545c7a919ba091797e5c4"
          ]
        },
        "id": "1PTZPsVSyOGU",
        "outputId": "6f6fd7b1-ebc8-420c-b51b-5f8ea84cd824"
      },
      "id": "1PTZPsVSyOGU",
      "execution_count": null,
      "outputs": [
        {
          "output_type": "stream",
          "name": "stderr",
          "text": [
            "INFO:stanza:Checking for updates to resources.json in case models have been updated.  Note: this behavior can be turned off with download_method=None or download_method=DownloadMethod.REUSE_RESOURCES\n"
          ]
        },
        {
          "output_type": "display_data",
          "data": {
            "text/plain": [
              "Downloading https://raw.githubusercontent.com/stanfordnlp/stanza-resources/main/resources_1.4.1.json:   0%|   …"
            ],
            "application/vnd.jupyter.widget-view+json": {
              "version_major": 2,
              "version_minor": 0,
              "model_id": "918d2ceef1ce4d2fb5e7dbce56075a15"
            }
          },
          "metadata": {}
        },
        {
          "output_type": "stream",
          "name": "stderr",
          "text": [
            "INFO:stanza:Loading these models for language: ru (Russian):\n",
            "=========================\n",
            "| Processor | Package   |\n",
            "-------------------------\n",
            "| tokenize  | syntagrus |\n",
            "| lemma     | syntagrus |\n",
            "=========================\n",
            "\n",
            "INFO:stanza:Use device: gpu\n",
            "INFO:stanza:Loading: tokenize\n",
            "INFO:stanza:Loading: lemma\n",
            "INFO:stanza:Done loading processors!\n"
          ]
        }
      ]
    },
    {
      "cell_type": "code",
      "source": [
        "tokenized_train = []\n",
        "texts = train_texts.text\n",
        "for text in texts:\n",
        "    tokenized_train.extend(tokenize(text))\n",
        "len(tokenized_train)"
      ],
      "metadata": {
        "colab": {
          "base_uri": "https://localhost:8080/"
        },
        "id": "mxL92e-5y1DV",
        "outputId": "5a86e9d6-e1dc-4ee8-f628-60f1b30d7096"
      },
      "id": "mxL92e-5y1DV",
      "execution_count": null,
      "outputs": [
        {
          "output_type": "execute_result",
          "data": {
            "text/plain": [
              "34848"
            ]
          },
          "metadata": {},
          "execution_count": 78
        }
      ]
    },
    {
      "cell_type": "code",
      "source": [
        "dev_texts = pd.read_csv('dev_reviews.txt', delimiter='\\t', names=['text_id', 'text'])"
      ],
      "metadata": {
        "id": "nLTCy_41sMP0"
      },
      "id": "nLTCy_41sMP0",
      "execution_count": null,
      "outputs": []
    },
    {
      "cell_type": "markdown",
      "source": [
        "# Расширение списка лемм-упоминаний"
      ],
      "metadata": {
        "id": "fkSql4JUFAKZ"
      },
      "id": "fkSql4JUFAKZ"
    },
    {
      "cell_type": "markdown",
      "id": "60081d14",
      "metadata": {
        "id": "60081d14"
      },
      "source": [
        "## Констрастивный метод\n",
        "\n",
        "Сравнение корпуса отзывов с нейтральным корпусом:"
      ]
    },
    {
      "cell_type": "code",
      "execution_count": null,
      "id": "d6f5f67b",
      "metadata": {
        "colab": {
          "base_uri": "https://localhost:8080/"
        },
        "id": "d6f5f67b",
        "outputId": "2fc1910b-2f01-4269-8f31-4560e991966d"
      },
      "outputs": [
        {
          "output_type": "stream",
          "name": "stderr",
          "text": [
            "/usr/local/lib/python3.8/dist-packages/IPython/core/interactiveshell.py:3326: DtypeWarning: Columns (3) have mixed types.Specify dtype option on import or set low_memory=False.\n",
            "  exec(code_obj, self.user_global_ns, self.user_ns)\n"
          ]
        }
      ],
      "source": [
        "news = pd.read_csv('/content/drive/MyDrive/lenta-ru-news.csv')"
      ]
    },
    {
      "cell_type": "code",
      "execution_count": null,
      "id": "9c4f04f6",
      "metadata": {
        "id": "9c4f04f6"
      },
      "outputs": [],
      "source": [
        "news_texts = news.text[:7000]  # значительно сократим выборку, так как stanza очень долго работает даже на GPU\n",
        "# кроме того, выборка с отзывами тоже достаточно небольшая, \n",
        "# так что сокращение количества новостных текстов кажется оправданным"
      ]
    },
    {
      "cell_type": "markdown",
      "id": "b8c295f7",
      "metadata": {
        "id": "b8c295f7"
      },
      "source": [
        "Можно попробовать выделить ключевые слова для корпуса отзывов по сравнению с нейтральным корпусом. Можно предположить, что среди этих ключевых слов будут важные униграммы-упоминания."
      ]
    },
    {
      "cell_type": "markdown",
      "id": "2603483c",
      "metadata": {
        "id": "2603483c"
      },
      "source": [
        "Предобработка текстов. \n",
        "\n",
        "Для задачи выделения ключевых слов – аспектов – можно удалить стоп-слова и лемматизировать тексты. Но эти предобработанные тексты не стоит использовать при определении тональности аспектов: из текстов удаляются стоп-слова, но среди стоп-слов могут оказаться важные для анализа тональности лексические единицы (e.g. отрицательные частицы, отрицательные местоимения, интенсификаторы).\n",
        "\n",
        "В текстах оставляются только существительные, прилагательные и глаголы, поскольку в train_asp среди упоминаний можно найти слова этих частей речи."
      ]
    },
    {
      "cell_type": "code",
      "execution_count": null,
      "id": "0e575a54",
      "metadata": {
        "colab": {
          "base_uri": "https://localhost:8080/",
          "height": 357,
          "referenced_widgets": [
            "360cf38f1f2a48e590c569da8e4df752",
            "280f35c9691c476fa0d58fc96350b790",
            "a0404cb0d10b44fba0fcad6d72501294",
            "22af0af371df494389d7d5adaa3bb901",
            "c808602d67874d72923b16c91b567d7f",
            "28256d2f7d8c4777b31d018fef0b2c0f",
            "4a71e3ea0bcb4844b95d2f9ca5a22c5d",
            "81159015d6f24af5ba1b1243cb2cd6e2",
            "d7eec62576f3446fa82eb1d935f0d0d5",
            "7f3a06f8d3d94ae4ac0492207e217ea6",
            "1193ccabfd004f59b18ff567243bae86"
          ]
        },
        "id": "0e575a54",
        "outputId": "ddfd77e1-58f4-485e-9a2f-0c99aacc6524"
      },
      "outputs": [
        {
          "output_type": "stream",
          "name": "stderr",
          "text": [
            "INFO:stanza:Checking for updates to resources.json in case models have been updated.  Note: this behavior can be turned off with download_method=None or download_method=DownloadMethod.REUSE_RESOURCES\n"
          ]
        },
        {
          "output_type": "display_data",
          "data": {
            "text/plain": [
              "Downloading https://raw.githubusercontent.com/stanfordnlp/stanza-resources/main/resources_1.4.1.json:   0%|   …"
            ],
            "application/vnd.jupyter.widget-view+json": {
              "version_major": 2,
              "version_minor": 0,
              "model_id": "360cf38f1f2a48e590c569da8e4df752"
            }
          },
          "metadata": {}
        },
        {
          "output_type": "stream",
          "name": "stderr",
          "text": [
            "INFO:stanza:Loading these models for language: ru (Russian):\n",
            "=========================\n",
            "| Processor | Package   |\n",
            "-------------------------\n",
            "| tokenize  | syntagrus |\n",
            "| pos       | syntagrus |\n",
            "| lemma     | syntagrus |\n",
            "=========================\n",
            "\n",
            "INFO:stanza:Use device: gpu\n",
            "INFO:stanza:Loading: tokenize\n",
            "INFO:stanza:Loading: pos\n",
            "INFO:stanza:Loading: lemma\n",
            "INFO:stanza:Done loading processors!\n"
          ]
        }
      ],
      "source": [
        "stop_words = stopwords.words('russian')\n",
        "nlp = stanza.Pipeline('ru', processors='tokenize,lemma,pos', use_gpu = True)\n",
        "\n",
        "def normalize_NVA(text):\n",
        "    doc = nlp(text)\n",
        "    words = []\n",
        "    for sent in doc.sentences:\n",
        "        for word in sent.words:\n",
        "            if word.lemma not in stop_words and word.lemma not in string.punctuation and (word.pos == 'NOUN' or word.pos == 'ADJ' or word.pos == 'VERB'):\n",
        "                words.append(word.lemma)\n",
        "    return words"
      ]
    },
    {
      "cell_type": "code",
      "execution_count": null,
      "id": "be832734",
      "metadata": {
        "colab": {
          "base_uri": "https://localhost:8080/"
        },
        "id": "be832734",
        "outputId": "ba0f053b-717e-4514-ba64-9c63484faa31"
      },
      "outputs": [
        {
          "output_type": "stream",
          "name": "stderr",
          "text": [
            "100%|██████████| 213/213 [00:24<00:00,  8.84it/s]\n"
          ]
        }
      ],
      "source": [
        "train_texts_norm = []\n",
        "texts = train_texts.text\n",
        "for text in tqdm(texts):\n",
        "    train_texts_norm.extend(normalize_NVA(text))"
      ]
    },
    {
      "cell_type": "markdown",
      "id": "ac5452bc",
      "metadata": {
        "id": "ac5452bc"
      },
      "source": [
        "Аналогично для news_texts:"
      ]
    },
    {
      "cell_type": "code",
      "execution_count": null,
      "id": "57b3aeee",
      "metadata": {
        "colab": {
          "base_uri": "https://localhost:8080/"
        },
        "id": "57b3aeee",
        "outputId": "f0ad2bb5-c9ba-493f-e471-4e7364f78a79"
      },
      "outputs": [
        {
          "output_type": "stream",
          "name": "stderr",
          "text": [
            "100%|██████████| 7000/7000 [15:08<00:00,  7.70it/s]\n"
          ]
        }
      ],
      "source": [
        "news_texts_norm = []\n",
        "for text in tqdm(news_texts):\n",
        "    news_texts_norm.extend(normalize_NVA(text))"
      ]
    },
    {
      "cell_type": "markdown",
      "source": [
        "Посчитаем метрику \"странность\".\n",
        "\n",
        "Для подсчёта weirdness необходимо вычислить:\n",
        "\n",
        "- FRC - число словоупотреблений во всей исследуемой коллекции;\n",
        "\n",
        "- FRCC - число словоупотреблений в контрастной коллекции;\n",
        "\n",
        "- FRL - частотность леммы в исследуемой коллекции;\n",
        "\n",
        "- FRLC - частотность леммы в контрастной коллекции."
      ],
      "metadata": {
        "id": "SzR5IwW7Nn4v"
      },
      "id": "SzR5IwW7Nn4v"
    },
    {
      "cell_type": "code",
      "source": [
        "FRC = len(train_texts_norm)\n",
        "FRC"
      ],
      "metadata": {
        "colab": {
          "base_uri": "https://localhost:8080/"
        },
        "id": "TjxNFGjINzrn",
        "outputId": "4c3e54ef-8d1f-4588-e858-b713322cf657"
      },
      "id": "TjxNFGjINzrn",
      "execution_count": null,
      "outputs": [
        {
          "output_type": "execute_result",
          "data": {
            "text/plain": [
              "14073"
            ]
          },
          "metadata": {},
          "execution_count": 15
        }
      ]
    },
    {
      "cell_type": "code",
      "source": [
        "FRCC = len(news_texts_norm)\n",
        "FRCC"
      ],
      "metadata": {
        "colab": {
          "base_uri": "https://localhost:8080/"
        },
        "id": "23oHlyiSOEAY",
        "outputId": "90dc0ab9-1f24-4317-b882-1287a7bb9d1d"
      },
      "id": "23oHlyiSOEAY",
      "execution_count": null,
      "outputs": [
        {
          "output_type": "execute_result",
          "data": {
            "text/plain": [
              "635629"
            ]
          },
          "metadata": {},
          "execution_count": 16
        }
      ]
    },
    {
      "cell_type": "code",
      "source": [
        "counts_train_texts = Counter(train_texts_norm)\n",
        "counts_news_texts = Counter(news_texts_norm)"
      ],
      "metadata": {
        "id": "9RmuC3TKQ12W"
      },
      "id": "9RmuC3TKQ12W",
      "execution_count": null,
      "outputs": []
    },
    {
      "cell_type": "code",
      "source": [
        "words_weirdness = {}\n",
        "for word in counts_train_texts.keys():\n",
        "    FRL = counts_train_texts[word]\n",
        "    FRLC = counts_news_texts[word]\n",
        "    if FRLC > 0:\n",
        "        weirdness = (FRL / FRC) / (FRLC / FRCC)\n",
        "        words_weirdness[word] = weirdness\n",
        "    else:\n",
        "        continue"
      ],
      "metadata": {
        "id": "GGMkVBPlTJt_"
      },
      "id": "GGMkVBPlTJt_",
      "execution_count": null,
      "outputs": []
    },
    {
      "cell_type": "code",
      "source": [
        "words_weirdness_sorted = {k: v for k, v in sorted(words_weirdness.items(), key=lambda item: item[1], reverse=True)}"
      ],
      "metadata": {
        "id": "n0WYU0Uohpoi"
      },
      "id": "n0WYU0Uohpoi",
      "execution_count": null,
      "outputs": []
    },
    {
      "cell_type": "markdown",
      "source": [
        "Можно ограничить список слов, выбрав пороговое значение метрики."
      ],
      "metadata": {
        "id": "d5TRiCwsw97B"
      },
      "id": "d5TRiCwsw97B"
    },
    {
      "cell_type": "code",
      "source": [
        "x = list(words_weirdness_sorted.values())\n",
        "plt.boxplot(x)\n",
        "plt.show()"
      ],
      "metadata": {
        "colab": {
          "base_uri": "https://localhost:8080/",
          "height": 265
        },
        "id": "XyJfwuoSxH6k",
        "outputId": "65fa730b-4459-43e2-e6af-a614b563c15e"
      },
      "id": "XyJfwuoSxH6k",
      "execution_count": null,
      "outputs": [
        {
          "output_type": "display_data",
          "data": {
            "text/plain": [
              "<Figure size 432x288 with 1 Axes>"
            ],
            "image/png": "[encoded data removed]"
          },
          "metadata": {
            "needs_background": "light"
          }
        }
      ]
    },
    {
      "cell_type": "markdown",
      "source": [
        "Можно, например, оставить в выборке только те упоминания аспектов, странность которых превышает 10."
      ],
      "metadata": {
        "id": "3_egHnjoxnnQ"
      },
      "id": "3_egHnjoxnnQ"
    },
    {
      "cell_type": "code",
      "source": [
        "words_weirdness_filtered = {k: v for k, v in words_weirdness_sorted.items() if v > 10}"
      ],
      "metadata": {
        "id": "4eubmjKjx04k"
      },
      "id": "4eubmjKjx04k",
      "execution_count": null,
      "outputs": []
    },
    {
      "cell_type": "markdown",
      "source": [
        "Уникальных упоминаний, собранных таким образом:"
      ],
      "metadata": {
        "id": "THRJwgRtzAJY"
      },
      "id": "THRJwgRtzAJY"
    },
    {
      "cell_type": "code",
      "source": [
        "new_mentions = list(words_weirdness_filtered.keys())\n",
        "len(new_mentions)"
      ],
      "metadata": {
        "colab": {
          "base_uri": "https://localhost:8080/"
        },
        "id": "eOrI-92Xx_Ce",
        "outputId": "6a3f96f4-84fc-4da7-ceb1-9b98dee5f82f"
      },
      "id": "eOrI-92Xx_Ce",
      "execution_count": null,
      "outputs": [
        {
          "output_type": "execute_result",
          "data": {
            "text/plain": [
              "666"
            ]
          },
          "metadata": {},
          "execution_count": 22
        }
      ]
    },
    {
      "cell_type": "markdown",
      "source": [
        "Нормализуем упоминания в train_asp:"
      ],
      "metadata": {
        "id": "RZgvP3YWqxDT"
      },
      "id": "RZgvP3YWqxDT"
    },
    {
      "cell_type": "code",
      "source": [
        "def normalize(text):\n",
        "    doc = nlp(text)\n",
        "    words = [word.lemma for sent in doc.sentences for word in sent.words]\n",
        "    return words"
      ],
      "metadata": {
        "id": "ksUC9oiy6ybE"
      },
      "id": "ksUC9oiy6ybE",
      "execution_count": null,
      "outputs": []
    },
    {
      "cell_type": "code",
      "source": [
        "train_asp['norm_mention'] = [tuple(normalize(m)) for m in train_asp['mention']]"
      ],
      "metadata": {
        "id": "0ComHObu6_BB"
      },
      "id": "0ComHObu6_BB",
      "execution_count": null,
      "outputs": []
    },
    {
      "cell_type": "markdown",
      "source": [
        "Уникальных упоминаний в train_asp:"
      ],
      "metadata": {
        "id": "tF4D6Nmm_HGp"
      },
      "id": "tF4D6Nmm_HGp"
    },
    {
      "cell_type": "code",
      "source": [
        "train_mentions_unique = set(list(train_asp['norm_mention']))\n",
        "len(train_mentions_unique)"
      ],
      "metadata": {
        "colab": {
          "base_uri": "https://localhost:8080/"
        },
        "id": "Ad_zzyoO-vB3",
        "outputId": "dc72306d-8080-4a1a-e835-b78debaec859"
      },
      "id": "Ad_zzyoO-vB3",
      "execution_count": null,
      "outputs": [
        {
          "output_type": "execute_result",
          "data": {
            "text/plain": [
              "1038"
            ]
          },
          "metadata": {},
          "execution_count": 25
        }
      ]
    },
    {
      "cell_type": "markdown",
      "source": [
        "## Методы дистрибутивной семантики\n",
        "\n",
        "Можно расширить список лемм также с помощью методов дистрибутивной семантики."
      ],
      "metadata": {
        "id": "z0BWNj5_EAVu"
      },
      "id": "z0BWNj5_EAVu"
    },
    {
      "cell_type": "markdown",
      "source": [
        "Загрузим модель:"
      ],
      "metadata": {
        "id": "SLr4Vg0MKJiH"
      },
      "id": "SLr4Vg0MKJiH"
    },
    {
      "cell_type": "code",
      "source": [
        "vectors = gensim.downloader.load('word2vec-ruscorpora-300')"
      ],
      "metadata": {
        "colab": {
          "base_uri": "https://localhost:8080/"
        },
        "id": "z5NStmFWKLzu",
        "outputId": "be1371bd-1e2a-41c4-9e2a-7b1fe22805cf"
      },
      "id": "z5NStmFWKLzu",
      "execution_count": null,
      "outputs": [
        {
          "output_type": "stream",
          "name": "stdout",
          "text": [
            "[==================================================] 100.0% 198.8/198.8MB downloaded\n"
          ]
        }
      ]
    },
    {
      "cell_type": "code",
      "source": [
        "train_asp_mentions = list(train_mentions_unique)\n",
        "\n",
        "train_mentions_POS = []\n",
        "for item in train_asp_mentions:\n",
        "    item_formatted = '::'.join(item)\n",
        "    doc = nlp(item_formatted)\n",
        "    for sent in doc.sentences:\n",
        "        train_mentions_POS.append(item_formatted + '_' + sent.words[-1].pos)"
      ],
      "metadata": {
        "id": "V12Maasfj540"
      },
      "id": "V12Maasfj540",
      "execution_count": null,
      "outputs": []
    },
    {
      "cell_type": "code",
      "source": [
        "similar_words_train = []\n",
        "for mention in tqdm(train_mentions_POS):\n",
        "    try:\n",
        "        most_similar = vectors.most_similar(mention)\n",
        "        similar_words_train.extend(most_similar)\n",
        "    except:\n",
        "        pass"
      ],
      "metadata": {
        "colab": {
          "base_uri": "https://localhost:8080/"
        },
        "id": "iae4N2UVlgKt",
        "outputId": "7db0be24-0c5e-48ad-c4f0-b2a24d919e65"
      },
      "id": "iae4N2UVlgKt",
      "execution_count": null,
      "outputs": [
        {
          "output_type": "stream",
          "name": "stderr",
          "text": [
            "100%|██████████| 1039/1039 [00:08<00:00, 127.06it/s]\n"
          ]
        }
      ]
    },
    {
      "cell_type": "markdown",
      "source": [
        "Теперь нужно объединить similar_words_train с полученными контрастивным методом упоминаниями и вычислять для них аспекты."
      ],
      "metadata": {
        "id": "wUyaW13eorlT"
      },
      "id": "wUyaW13eorlT"
    },
    {
      "cell_type": "markdown",
      "source": [
        "Собираем всё:\n",
        "\n",
        "- нормализованные упоминания из трейна\n",
        "- similar_words_train\n",
        "- собранные new_mentions"
      ],
      "metadata": {
        "id": "jqj96UJ4syT3"
      },
      "id": "jqj96UJ4syT3"
    },
    {
      "cell_type": "code",
      "source": [
        "new_mentions_tuple = [tuple(mention.split(';')) for mention in new_mentions]"
      ],
      "metadata": {
        "id": "4n09ubDLtdCA"
      },
      "id": "4n09ubDLtdCA",
      "execution_count": null,
      "outputs": []
    },
    {
      "cell_type": "code",
      "source": [
        "similar_words_tuple = []\n",
        "for item in similar_words_train:\n",
        "    item_formatted = re.sub(r'_.+', '', item[0])\n",
        "    item_tuple = tuple(item_formatted.split('::'))\n",
        "    similar_words_tuple.append(item_tuple)"
      ],
      "metadata": {
        "id": "5Fd6M1XBuENF"
      },
      "id": "5Fd6M1XBuENF",
      "execution_count": null,
      "outputs": []
    },
    {
      "cell_type": "markdown",
      "source": [
        "## Итоговый список лемм"
      ],
      "metadata": {
        "id": "9KiI1hXnkIWp"
      },
      "id": "9KiI1hXnkIWp"
    },
    {
      "cell_type": "code",
      "source": [
        "all_mentions = train_asp_mentions + new_mentions_tuple + similar_words_tuple\n",
        "all_mentions_unique = set(all_mentions)\n",
        "len(all_mentions_unique)"
      ],
      "metadata": {
        "colab": {
          "base_uri": "https://localhost:8080/"
        },
        "id": "EjQqUKsRvZPG",
        "outputId": "4539f83c-4941-4769-f41e-1f64ed532ac7"
      },
      "id": "EjQqUKsRvZPG",
      "execution_count": null,
      "outputs": [
        {
          "output_type": "execute_result",
          "data": {
            "text/plain": [
              "3883"
            ]
          },
          "metadata": {},
          "execution_count": 31
        }
      ]
    },
    {
      "cell_type": "code",
      "source": [
        "with open('all_mentions.txt', 'w') as f:\n",
        "    for l in list(all_mentions_unique):\n",
        "        print(l, file=f)"
      ],
      "metadata": {
        "id": "m8BvUaNOvtHD"
      },
      "id": "m8BvUaNOvtHD",
      "execution_count": null,
      "outputs": []
    },
    {
      "cell_type": "markdown",
      "source": [
        "# Приписывание лемме аспекта"
      ],
      "metadata": {
        "id": "EM47eJLK41FM"
      },
      "id": "EM47eJLK41FM"
    },
    {
      "cell_type": "markdown",
      "source": [
        "Можно поступить следующим образом: тем упоминаниям, которые есть в train_asp, приписать аспект, уже указанный в тренировочных данных. Упоминаниям, отсутствующим в обучающей выборке, можно приписывать аспект с помощью методов дистрибутивной семантики."
      ],
      "metadata": {
        "id": "PIkZDNdo9oBP"
      },
      "id": "PIkZDNdo9oBP"
    },
    {
      "cell_type": "code",
      "source": [
        "def get_mention_category(data, cat_type):\n",
        "    mention_categories = data.value_counts(subset=['norm_mention', cat_type])\n",
        "    mention_categories_dict = defaultdict(dict)\n",
        "    for key, value in mention_categories.items():\n",
        "        mention_categories_dict[key[0]][key[1]] = value\n",
        "    return {k: Counter(v).most_common(1)[0][0] for k, v in mention_categories_dict.items()}"
      ],
      "metadata": {
        "id": "5gDYqBFL45Hx"
      },
      "id": "5gDYqBFL45Hx",
      "execution_count": null,
      "outputs": []
    },
    {
      "cell_type": "code",
      "source": [
        "best_mention_cat = get_mention_category(train_asp, 'category')"
      ],
      "metadata": {
        "id": "nITIfrZx_x_2"
      },
      "id": "nITIfrZx_x_2",
      "execution_count": null,
      "outputs": []
    },
    {
      "cell_type": "code",
      "source": [
        "len(best_mention_cat)  # == len(list(set(train_asp_mentions)))"
      ],
      "metadata": {
        "colab": {
          "base_uri": "https://localhost:8080/"
        },
        "id": "GYJ2YRf_B9B5",
        "outputId": "68c5dd1b-1999-40e2-995c-9a40ffa300ce"
      },
      "id": "GYJ2YRf_B9B5",
      "execution_count": null,
      "outputs": [
        {
          "output_type": "execute_result",
          "data": {
            "text/plain": [
              "1038"
            ]
          },
          "metadata": {},
          "execution_count": 34
        }
      ]
    },
    {
      "cell_type": "code",
      "source": [
        "list(pd.unique(train_asp.category))"
      ],
      "metadata": {
        "colab": {
          "base_uri": "https://localhost:8080/"
        },
        "id": "rI3KMDRORGmR",
        "outputId": "e605ef41-279a-48a4-c29e-a0e459b69456"
      },
      "id": "rI3KMDRORGmR",
      "execution_count": null,
      "outputs": [
        {
          "output_type": "execute_result",
          "data": {
            "text/plain": [
              "['Whole', 'Service', 'Food', 'Interior', 'Price']"
            ]
          },
          "metadata": {},
          "execution_count": 35
        }
      ]
    },
    {
      "cell_type": "markdown",
      "source": [
        "# Возвращаясь к аспектам,"
      ],
      "metadata": {
        "id": "jQIrrWFG0qYg"
      },
      "id": "jQIrrWFG0qYg"
    },
    {
      "cell_type": "code",
      "source": [
        "mentions_wo_train = all_mentions_unique.difference(set(train_asp_mentions))"
      ],
      "metadata": {
        "id": "u5mmt1T3y0P_"
      },
      "id": "u5mmt1T3y0P_",
      "execution_count": null,
      "outputs": []
    },
    {
      "cell_type": "code",
      "source": [
        "classes = list(pd.unique(train_asp.category))\n",
        "base_words = ['ресторан_NOUN', 'обслуживание_NOUN', 'еда_NOUN', 'интерьер_NOUN', 'цена_NOUN']\n",
        "base_vectors = []\n",
        "for c, word in zip(classes, base_words):\n",
        "    base_vectors.append(vectors[word])"
      ],
      "metadata": {
        "id": "4TjsiazwRBsB"
      },
      "id": "4TjsiazwRBsB",
      "execution_count": null,
      "outputs": []
    },
    {
      "cell_type": "code",
      "source": [
        "mentions_wo_train_POS = []\n",
        "for mention in tqdm(mentions_wo_train):\n",
        "    mention_formatted = '::'.join(mention)\n",
        "    doc = nlp(mention_formatted)\n",
        "    for sent in doc.sentences:\n",
        "        mentions_wo_train_POS.append(mention_formatted + '_' + sent.words[-1].pos)"
      ],
      "metadata": {
        "colab": {
          "base_uri": "https://localhost:8080/"
        },
        "id": "LYdKERjn0-D3",
        "outputId": "b64c0619-6b0d-46f5-8e94-50c21301c785"
      },
      "id": "LYdKERjn0-D3",
      "execution_count": null,
      "outputs": [
        {
          "output_type": "stream",
          "name": "stderr",
          "text": [
            "100%|██████████| 2845/2845 [01:28<00:00, 32.18it/s]\n"
          ]
        }
      ]
    },
    {
      "cell_type": "code",
      "source": [
        "all_sims = []\n",
        "for k in mentions_wo_train_POS:\n",
        "    try:\n",
        "        sim = vectors.cosine_similarities(vectors[k], base_vectors)\n",
        "        max_sim = max(sim)\n",
        "        all_sims.append(max_sim)\n",
        "    except KeyError:\n",
        "        pass"
      ],
      "metadata": {
        "id": "cRX3uH0p2Pj7"
      },
      "id": "cRX3uH0p2Pj7",
      "execution_count": null,
      "outputs": []
    },
    {
      "cell_type": "code",
      "source": [
        "plt.boxplot(all_sims)\n",
        "plt.show()"
      ],
      "metadata": {
        "id": "qputhMx42gmd",
        "colab": {
          "base_uri": "https://localhost:8080/",
          "height": 265
        },
        "outputId": "bb97f2c4-ee83-4266-a59a-1bd0a098f034"
      },
      "id": "qputhMx42gmd",
      "execution_count": null,
      "outputs": [
        {
          "output_type": "display_data",
          "data": {
            "text/plain": [
              "<Figure size 432x288 with 1 Axes>"
            ],
            "image/png": "[encoded data removed]"
          },
          "metadata": {
            "needs_background": "light"
          }
        }
      ]
    },
    {
      "cell_type": "code",
      "source": [
        "def get_most_similar(word):\n",
        "    sim = vectors.cosine_similarities(vectors[word], base_vectors)\n",
        "    if np.max(sim) <= 0.4:\n",
        "        similar_class = 'Other'\n",
        "    else:\n",
        "        similar_class = classes[np.argmax(sim)]\n",
        "\n",
        "    return similar_class"
      ],
      "metadata": {
        "id": "KlrqPai12ndS"
      },
      "id": "KlrqPai12ndS",
      "execution_count": null,
      "outputs": []
    },
    {
      "cell_type": "code",
      "source": [
        "mention_cat_wo_train = {}\n",
        "for k in mentions_wo_train_POS:\n",
        "    try:\n",
        "        category = get_most_similar(k)\n",
        "        k_formatted = re.sub(r'_.+', '', k)\n",
        "        key = tuple(k_formatted.split('::'))\n",
        "        mention_cat_wo_train[key] = category\n",
        "\n",
        "    except KeyError:\n",
        "        pass"
      ],
      "metadata": {
        "id": "tm7v_Y7t2un9"
      },
      "id": "tm7v_Y7t2un9",
      "execution_count": null,
      "outputs": []
    },
    {
      "cell_type": "code",
      "source": [
        "mention_cat_filtered = {k: v for k, v in mention_cat_wo_train.items() if v != 'Other'}"
      ],
      "metadata": {
        "id": "WIsv75La21eF"
      },
      "id": "WIsv75La21eF",
      "execution_count": null,
      "outputs": []
    },
    {
      "cell_type": "code",
      "source": [
        "len(mention_cat_filtered)"
      ],
      "metadata": {
        "colab": {
          "base_uri": "https://localhost:8080/"
        },
        "id": "cc9_3DEE9sBK",
        "outputId": "05b4a287-2388-44f8-fa4b-ca452176a416"
      },
      "id": "cc9_3DEE9sBK",
      "execution_count": null,
      "outputs": [
        {
          "output_type": "execute_result",
          "data": {
            "text/plain": [
              "456"
            ]
          },
          "metadata": {},
          "execution_count": 44
        }
      ]
    },
    {
      "cell_type": "markdown",
      "source": [
        "Нужно объединить mention_cat_filtered с best_mention_cat, потом сохранить этот дикт"
      ],
      "metadata": {
        "id": "JdLcZtXgAD3W"
      },
      "id": "JdLcZtXgAD3W"
    },
    {
      "cell_type": "code",
      "source": [
        "def merge_two_dicts(x, y):\n",
        "    z = x.copy()\n",
        "    z.update(y)\n",
        "    return z\n",
        "all_mentions_categories = merge_two_dicts(mention_cat_filtered, best_mention_cat)"
      ],
      "metadata": {
        "id": "8x0n3nHhAQlk"
      },
      "id": "8x0n3nHhAQlk",
      "execution_count": null,
      "outputs": []
    },
    {
      "cell_type": "code",
      "source": [
        "len(all_mentions_categories)"
      ],
      "metadata": {
        "colab": {
          "base_uri": "https://localhost:8080/"
        },
        "id": "lwNX5voCAr1f",
        "outputId": "36cc2fb2-8ac8-4fa2-f16b-daa0bd2652a7"
      },
      "id": "lwNX5voCAr1f",
      "execution_count": null,
      "outputs": [
        {
          "output_type": "execute_result",
          "data": {
            "text/plain": [
              "1494"
            ]
          },
          "metadata": {},
          "execution_count": 46
        }
      ]
    },
    {
      "cell_type": "markdown",
      "source": [
        "Сохранить дикт:"
      ],
      "metadata": {
        "id": "dPETJ7Dd_rZc"
      },
      "id": "dPETJ7Dd_rZc"
    },
    {
      "cell_type": "code",
      "source": [
        "import csv\n",
        "w = csv.writer(open(\"all_mentions_categories.csv\", \"w\"))\n",
        "\n",
        "for key, val in all_mentions_categories.items():\n",
        "    w.writerow([key, val])"
      ],
      "metadata": {
        "id": "5CDJnaj49gBg"
      },
      "id": "5CDJnaj49gBg",
      "execution_count": null,
      "outputs": []
    },
    {
      "cell_type": "markdown",
      "source": [
        "# Анализ тональности"
      ],
      "metadata": {
        "id": "VimPjhiIsXvm"
      },
      "id": "VimPjhiIsXvm"
    },
    {
      "cell_type": "markdown",
      "source": [
        "Анализ тональности с использованием библиотеки dostoevsky:"
      ],
      "metadata": {
        "id": "P0MQDYujUX8z"
      },
      "id": "P0MQDYujUX8z"
    },
    {
      "cell_type": "code",
      "source": [
        "import dostoevsky"
      ],
      "metadata": {
        "id": "RPbiJWbHUgCF"
      },
      "id": "RPbiJWbHUgCF",
      "execution_count": null,
      "outputs": []
    },
    {
      "cell_type": "code",
      "source": [
        "! python -m dostoevsky download fasttext-social-network-model"
      ],
      "metadata": {
        "id": "nt_uOUQxVJ7W"
      },
      "id": "nt_uOUQxVJ7W",
      "execution_count": null,
      "outputs": []
    },
    {
      "cell_type": "markdown",
      "source": [
        "## 1. Тональность упоминаний, которые есть в текстах\n",
        "\n",
        "1) Можно посчитать сначала тональность просто для каждого слова из all_mentions_categories (за исключением тех слов, для которых уже есть тональность в обучающей выборке)\n",
        "\n",
        "2) Пройтись по текстам, если в тексте будут уни-, биграммы из списка, то нужно собрать последовательность из двух-трёх предыдущих и двух-трёх последующих токенов и посмотреть на её тональность"
      ],
      "metadata": {
        "id": "Ho-F5XADWCNu"
      },
      "id": "Ho-F5XADWCNu"
    },
    {
      "cell_type": "code",
      "source": [
        "best_mention_sentiment = get_mention_category(train_asp, 'sentiment')"
      ],
      "metadata": {
        "id": "gMYXJ_vAX3Ok"
      },
      "id": "gMYXJ_vAX3Ok",
      "execution_count": null,
      "outputs": []
    },
    {
      "cell_type": "code",
      "source": [
        "mentions_for_sentiment = set(list(all_mentions_categories.keys())).difference(set(list(best_mention_sentiment.keys())))"
      ],
      "metadata": {
        "id": "35R_KyW7dO1V"
      },
      "id": "35R_KyW7dO1V",
      "execution_count": null,
      "outputs": []
    },
    {
      "cell_type": "code",
      "source": [
        "len(mentions_for_sentiment)"
      ],
      "metadata": {
        "colab": {
          "base_uri": "https://localhost:8080/"
        },
        "id": "fbdzzNxweL5a",
        "outputId": "eed7b51a-473e-4a2e-e338-6d1aadcf43e5"
      },
      "id": "fbdzzNxweL5a",
      "execution_count": null,
      "outputs": [
        {
          "output_type": "execute_result",
          "data": {
            "text/plain": [
              "456"
            ]
          },
          "metadata": {},
          "execution_count": 51
        }
      ]
    },
    {
      "cell_type": "code",
      "source": [
        "texts_preprocessed = []\n",
        "for text in train_texts.text:\n",
        "    texts_preprocessed.append(normalize(text))"
      ],
      "metadata": {
        "id": "_bpix29EuhyE"
      },
      "id": "_bpix29EuhyE",
      "execution_count": null,
      "outputs": []
    },
    {
      "cell_type": "code",
      "source": [
        "mentions_ngrams = {}\n",
        "for text in texts_preprocessed:\n",
        "    for i in range(len(text)):\n",
        "        for mention in mentions_for_sentiment:\n",
        "            if len(mention) == 1:\n",
        "                if (2 + i) < len(text):\n",
        "                    if text[i] == mention[0]:\n",
        "                        right_context = text[i-1] + ' ' + text[i-2]\n",
        "                        left_context = text[i+1] + ' ' + text[i+2]\n",
        "                        mentions_ngrams.setdefault(mention[0], []).append(right_context + ' ' + mention[0] + ' ' + left_context)\n",
        "                       \n",
        "            if len(mention) == 2:\n",
        "                if (2 + i) < len(text):\n",
        "                    if text[i] == mention[0] and text[i+1] == mention[1]:\n",
        "                        right_context = text[i-1] + ' ' + text[i-2]\n",
        "                        left_context = text[i+1] + ' ' + text[i+2]\n",
        "                        key = mention[0] + ' ' + mention[1]\n",
        "                        mentions_ngrams.setdefault(key, []).append(right_context + ' ' + mention[0] + ' ' + mention[1] + ' ' + left_context)\n"
      ],
      "metadata": {
        "id": "Y2SyJuQZyhz8"
      },
      "id": "Y2SyJuQZyhz8",
      "execution_count": null,
      "outputs": []
    },
    {
      "cell_type": "code",
      "source": [
        "tokenizer = RegexTokenizer()\n",
        "\n",
        "model = FastTextSocialNetworkModel(tokenizer=tokenizer)\n",
        "\n",
        "mentions_sentiment = {}\n",
        "for key, value in mentions_ngrams.items():\n",
        "    mentions_sentiment.setdefault(key, []).extend(model.predict(value, k=1))"
      ],
      "metadata": {
        "colab": {
          "base_uri": "https://localhost:8080/"
        },
        "id": "FVoPH4ccGYtJ",
        "outputId": "cb77d3c0-8d01-47b5-c798-814a1964433a"
      },
      "id": "FVoPH4ccGYtJ",
      "execution_count": null,
      "outputs": [
        {
          "output_type": "stream",
          "name": "stderr",
          "text": [
            "Warning : `load_model` does not return WordVectorModel or SupervisedModel any more, but a `FastText` object which is very similar.\n"
          ]
        }
      ]
    },
    {
      "cell_type": "markdown",
      "source": [
        "Теперь нужно прописать правила, согласно которым будет определяться тональность упоминания из полученного словаря.\n",
        "\n",
        "Например, можно посчитать количество каждой из категорий в списке, а затем приписать лемме такую категорию, которая была самой частотной."
      ],
      "metadata": {
        "id": "GIGbMURrImwn"
      },
      "id": "GIGbMURrImwn"
    },
    {
      "cell_type": "code",
      "source": [
        "mentions_sentiment_final = {}\n",
        "for key, value in mentions_sentiment.items():\n",
        "    for v in value:\n",
        "        most_common_v = Counter(v).most_common(1)\n",
        "        mentions_sentiment_final[key] = most_common_v"
      ],
      "metadata": {
        "id": "ZthrtLDCJ9uS"
      },
      "id": "ZthrtLDCJ9uS",
      "execution_count": null,
      "outputs": []
    },
    {
      "cell_type": "code",
      "source": [
        "len(mentions_sentiment_final)"
      ],
      "metadata": {
        "colab": {
          "base_uri": "https://localhost:8080/"
        },
        "id": "2zrBG-V7L4Qf",
        "outputId": "48e2aca7-c71b-460f-d1b8-cf718f07dfeb"
      },
      "id": "2zrBG-V7L4Qf",
      "execution_count": null,
      "outputs": [
        {
          "output_type": "execute_result",
          "data": {
            "text/plain": [
              "68"
            ]
          },
          "metadata": {},
          "execution_count": 56
        }
      ]
    },
    {
      "cell_type": "markdown",
      "source": [
        "## 2. Тональность упоминаний, которых нет в текстах"
      ],
      "metadata": {
        "id": "ju5w-3LFMRbZ"
      },
      "id": "ju5w-3LFMRbZ"
    },
    {
      "cell_type": "markdown",
      "source": [
        "Модель, предложенная в библиотеке dostoevsky, оказывается неэффективной при работе с униграммами или биграммами. Поэтому для определения тональности лемм, которые не встречаются в текстах, можно использовать тональный словарь."
      ],
      "metadata": {
        "id": "Bq2oVkvhM6B3"
      },
      "id": "Bq2oVkvhM6B3"
    },
    {
      "cell_type": "code",
      "source": [
        "mentions_in_texts = []\n",
        "for mention in list(mentions_sentiment_final.keys()):\n",
        "    mention_tuple = tuple(mention.split(' '))\n",
        "    mentions_in_texts.append(mention_tuple)\n",
        "mentions_not_in_texts = set(mentions_for_sentiment).difference(set(list(mentions_in_texts)))"
      ],
      "metadata": {
        "id": "piTW4527MRCi"
      },
      "id": "piTW4527MRCi",
      "execution_count": null,
      "outputs": []
    },
    {
      "cell_type": "code",
      "source": [
        "len(mentions_not_in_texts)"
      ],
      "metadata": {
        "colab": {
          "base_uri": "https://localhost:8080/"
        },
        "id": "seMj_ewbPFgX",
        "outputId": "6435ddfc-7ec3-46e5-9680-6ab0d828005f"
      },
      "id": "seMj_ewbPFgX",
      "execution_count": null,
      "outputs": [
        {
          "output_type": "execute_result",
          "data": {
            "text/plain": [
              "388"
            ]
          },
          "metadata": {},
          "execution_count": 58
        }
      ]
    },
    {
      "cell_type": "code",
      "source": [
        "sent_dictionary = pd.read_csv('/content/kartaslovsent.csv', sep=';')"
      ],
      "metadata": {
        "id": "ihJnQYLsSMaP"
      },
      "id": "ihJnQYLsSMaP",
      "execution_count": null,
      "outputs": []
    },
    {
      "cell_type": "code",
      "source": [
        "sent_dict = sent_dictionary[['term', 'tag']]  # нас интересуют term и tag"
      ],
      "metadata": {
        "id": "f4OnaChkSSzN"
      },
      "id": "f4OnaChkSSzN",
      "execution_count": null,
      "outputs": []
    },
    {
      "cell_type": "code",
      "source": [
        "mentions_not_in_texts_sentiment = {}\n",
        "for mention in mentions_not_in_texts:\n",
        "    mention_formatted = ' '.join(mention)\n",
        "    for term, tag in zip(list(sent_dict.term), list(sent_dict.tag)):\n",
        "        if mention_formatted == term:\n",
        "            mentions_not_in_texts_sentiment[tuple(mention_formatted.split(' '))] = tag"
      ],
      "metadata": {
        "id": "S_ekRI68QMPN"
      },
      "id": "S_ekRI68QMPN",
      "execution_count": null,
      "outputs": []
    },
    {
      "cell_type": "markdown",
      "source": [
        "## Приведение данных к единому формату"
      ],
      "metadata": {
        "id": "Dl50rjD4YZNW"
      },
      "id": "Dl50rjD4YZNW"
    },
    {
      "cell_type": "code",
      "source": [
        "sentiment_not_in_texts = {}\n",
        "for key, value in mentions_not_in_texts_sentiment.items():\n",
        "    if value=='NGTV':\n",
        "        sentiment_not_in_texts[key] = 'negative'\n",
        "    elif value=='PSTV':\n",
        "        sentiment_not_in_texts[key] = 'positive'\n",
        "    else:\n",
        "        sentiment_not_in_texts[key] = 'neutral'"
      ],
      "metadata": {
        "id": "hni9NHq0YeYh"
      },
      "id": "hni9NHq0YeYh",
      "execution_count": null,
      "outputs": []
    },
    {
      "cell_type": "code",
      "source": [
        "sentiment_in_texts = {}\n",
        "for key, value in mentions_sentiment_final.items():\n",
        "    key_formatted = tuple(key.split(' '))\n",
        "    tag = value[0][0]\n",
        "    sentiment_in_texts[key_formatted] = tag"
      ],
      "metadata": {
        "id": "E_znqcgiZ5s1"
      },
      "id": "E_znqcgiZ5s1",
      "execution_count": null,
      "outputs": []
    },
    {
      "cell_type": "code",
      "source": [
        "all_mentions_sentiment = {**best_mention_sentiment, **sentiment_in_texts, **sentiment_not_in_texts}"
      ],
      "metadata": {
        "id": "OgE1MWyybhax"
      },
      "id": "OgE1MWyybhax",
      "execution_count": null,
      "outputs": []
    },
    {
      "cell_type": "code",
      "source": [
        "len(all_mentions_sentiment)"
      ],
      "metadata": {
        "colab": {
          "base_uri": "https://localhost:8080/"
        },
        "id": "KN6CID6AcqD1",
        "outputId": "7f6820a5-af08-4eed-cd57-c88bea6a0721"
      },
      "id": "KN6CID6AcqD1",
      "execution_count": null,
      "outputs": [
        {
          "output_type": "execute_result",
          "data": {
            "text/plain": [
              "1247"
            ]
          },
          "metadata": {},
          "execution_count": 65
        }
      ]
    },
    {
      "cell_type": "markdown",
      "source": [
        "# Dev_texts"
      ],
      "metadata": {
        "id": "kMgiv2FZtZbk"
      },
      "id": "kMgiv2FZtZbk"
    },
    {
      "cell_type": "markdown",
      "source": [
        "## Categories & Sentiment"
      ],
      "metadata": {
        "id": "tW9huKUPr57s"
      },
      "id": "tW9huKUPr57s"
    },
    {
      "cell_type": "code",
      "source": [
        "Counter([len(x) for x in all_mentions_sentiment.keys()])"
      ],
      "metadata": {
        "colab": {
          "base_uri": "https://localhost:8080/"
        },
        "id": "KT3nbRN0gEvX",
        "outputId": "a7894d02-7145-4dbc-914e-6dd828f581a0"
      },
      "id": "KT3nbRN0gEvX",
      "execution_count": null,
      "outputs": [
        {
          "output_type": "execute_result",
          "data": {
            "text/plain": [
              "Counter({1: 690,\n",
              "         2: 301,\n",
              "         3: 144,\n",
              "         4: 54,\n",
              "         5: 32,\n",
              "         6: 14,\n",
              "         7: 6,\n",
              "         10: 1,\n",
              "         9: 2,\n",
              "         12: 1,\n",
              "         8: 2})"
            ]
          },
          "metadata": {},
          "execution_count": 66
        }
      ]
    },
    {
      "cell_type": "code",
      "source": [
        "def label_texts(text, mentions, sentiments, max_len=5):\n",
        "    tokenized = [word for sent in nlp(text).sentences for word in sent.words] # токенизируем предложения в тексте\n",
        "    text_end = len(tokenized) # считаем длину текста в токенах\n",
        "    for i, token in enumerate(tokenized): # проходимся по всем токенам\n",
        "        for l in reversed(range(max_len)): # для значений от 5 до 1\n",
        "            if i + l > text_end: # если (позиция токена + значение от 5 до 1) > конца текста\n",
        "                continue\n",
        "            span = tokenized[i:i + l] # спан – от позиции токена до (позиции токена + значение от 5 до 1)\n",
        "            key = tuple([t.lemma for t in span]) # кортеж из лемм в спане\n",
        "            if key in mentions: # если эти леммы есть в mentions\n",
        "                start, end = span[0].start_char, span[-1].end_char # начало спана в символах\n",
        "                yield mentions[key], text[start:end], start, end, sentiments[key] # возвращаются: леммы в mentions, спан, старт (номер символа), конец (номер символа), тональность для лемм\n",
        "                break"
      ],
      "metadata": {
        "id": "IlRd0V6mgOgH"
      },
      "id": "IlRd0V6mgOgH",
      "execution_count": null,
      "outputs": []
    },
    {
      "cell_type": "code",
      "source": [
        "len(all_mentions_categories)"
      ],
      "metadata": {
        "colab": {
          "base_uri": "https://localhost:8080/"
        },
        "id": "UEYeF_UKhA6m",
        "outputId": "996923ab-c7f5-4d42-d630-b8ab6cf597ba"
      },
      "id": "UEYeF_UKhA6m",
      "execution_count": null,
      "outputs": [
        {
          "output_type": "execute_result",
          "data": {
            "text/plain": [
              "1494"
            ]
          },
          "metadata": {},
          "execution_count": 68
        }
      ]
    },
    {
      "cell_type": "code",
      "source": [
        "len(all_mentions_sentiment)"
      ],
      "metadata": {
        "colab": {
          "base_uri": "https://localhost:8080/"
        },
        "id": "1OxcvtC_hTWF",
        "outputId": "1ecbaefa-6d46-4165-8daa-1a701c258f6e"
      },
      "id": "1OxcvtC_hTWF",
      "execution_count": null,
      "outputs": [
        {
          "output_type": "execute_result",
          "data": {
            "text/plain": [
              "1247"
            ]
          },
          "metadata": {},
          "execution_count": 69
        }
      ]
    },
    {
      "cell_type": "code",
      "source": [
        "all_mentions_categories_new = {}\n",
        "for key, value in all_mentions_categories.items():\n",
        "    for key_sent in all_mentions_sentiment.keys():\n",
        "        if key == key_sent:\n",
        "            all_mentions_categories_new[key] = value"
      ],
      "metadata": {
        "id": "wrJBWfvfhViA"
      },
      "id": "wrJBWfvfhViA",
      "execution_count": null,
      "outputs": []
    },
    {
      "cell_type": "code",
      "source": [
        "len(all_mentions_categories_new)"
      ],
      "metadata": {
        "colab": {
          "base_uri": "https://localhost:8080/"
        },
        "id": "QBrHgS1fiDcu",
        "outputId": "bc51433b-4150-4307-bbcf-aa7b90acf1a0"
      },
      "id": "QBrHgS1fiDcu",
      "execution_count": null,
      "outputs": [
        {
          "output_type": "execute_result",
          "data": {
            "text/plain": [
              "1247"
            ]
          },
          "metadata": {},
          "execution_count": 71
        }
      ]
    },
    {
      "cell_type": "code",
      "source": [
        "with open('dev_pred_aspects_3.txt', 'w') as f:\n",
        "    for text, idx in zip(dev_texts['text'], dev_texts['text_id']):\n",
        "        for asp in label_texts(text, all_mentions_categories_new, all_mentions_sentiment):\n",
        "            print(idx, *asp, sep=\"\\t\", file=f)"
      ],
      "metadata": {
        "id": "rRnMCg79gqf1"
      },
      "id": "rRnMCg79gqf1",
      "execution_count": null,
      "outputs": []
    },
    {
      "cell_type": "markdown",
      "source": [
        "## Sentiment of a Category"
      ],
      "metadata": {
        "id": "ouUSTWRdjEOT"
      },
      "id": "ouUSTWRdjEOT"
    },
    {
      "cell_type": "code",
      "source": [
        "CATEGORIES = ['Whole', 'Interior', 'Service', 'Food', 'Price']"
      ],
      "metadata": {
        "id": "Kaet7RSNjDj1"
      },
      "id": "Kaet7RSNjDj1",
      "execution_count": null,
      "outputs": []
    },
    {
      "cell_type": "code",
      "source": [
        "def get_full_sentiment(text, mentions, sentiment, max_len=5):\n",
        "    asp_counter = defaultdict(Counter)\n",
        "    for asp in label_texts(text, best_mention_cat, best_mention_sentiment, max_len):\n",
        "        category, *_, sentiment = asp\n",
        "        asp_counter[category][sentiment] += 1\n",
        "    for c in CATEGORIES:\n",
        "        if not asp_counter[c]:\n",
        "            s = 'absence'\n",
        "        elif len(asp_counter[c]) == 1:\n",
        "            s = asp_counter[c].most_common(1)[0][0]\n",
        "        else:\n",
        "            s = 'both'\n",
        "        yield c, s"
      ],
      "metadata": {
        "id": "dqt9Eg4njKaX"
      },
      "id": "dqt9Eg4njKaX",
      "execution_count": null,
      "outputs": []
    },
    {
      "cell_type": "code",
      "source": [
        "with open('dev_pred_cats_3.txt', 'w') as f:\n",
        "    for text, idx in zip(dev_texts['text'], dev_texts['text_id']):\n",
        "        for c, s in get_full_sentiment(text, all_mentions_categories_new, all_mentions_sentiment):\n",
        "            print(idx, c, s, sep=\"\\t\", file=f)"
      ],
      "metadata": {
        "id": "UH0DFHIgjZH6"
      },
      "id": "UH0DFHIgjZH6",
      "execution_count": null,
      "outputs": []
    }
  ],
  "metadata": {
    "kernelspec": {
      "display_name": "Python 3",
      "language": "python",
      "name": "python3"
    },
    "language_info": {
      "codemirror_mode": {
        "name": "ipython",
        "version": 3
      },
      "file_extension": ".py",
      "mimetype": "text/x-python",
      "name": "python",
      "nbconvert_exporter": "python",
      "pygments_lexer": "ipython3",
      "version": "3.8.8"
    },
    "colab": {
      "provenance": []
    },
    "accelerator": "GPU",
    "gpuClass": "standard",
    "widgets": {
      "application/vnd.jupyter.widget-state+json": {
        "94bdd5b2b9df4d7facf8b6a120eda083": {
          "model_module": "@jupyter-widgets/controls",
          "model_name": "HBoxModel",
          "model_module_version": "1.5.0",
          "state": {
            "_dom_classes": [],
            "_model_module": "@jupyter-widgets/controls",
            "_model_module_version": "1.5.0",
            "_model_name": "HBoxModel",
            "_view_count": null,
            "_view_module": "@jupyter-widgets/controls",
            "_view_module_version": "1.5.0",
            "_view_name": "HBoxView",
            "box_style": "",
            "children": [
              "IPY_MODEL_a09db47bb9f4480587adf84b7e676721",
              "IPY_MODEL_f8844c471390498fbe48b35a31c2ae32",
              "IPY_MODEL_dc6b4ad5bb7f4db68b399782c9307310"
            ],
            "layout": "IPY_MODEL_badb8596ec26430bbfc48dcc6f97e4f8"
          }
        },
        "a09db47bb9f4480587adf84b7e676721": {
          "model_module": "@jupyter-widgets/controls",
          "model_name": "HTMLModel",
          "model_module_version": "1.5.0",
          "state": {
            "_dom_classes": [],
            "_model_module": "@jupyter-widgets/controls",
            "_model_module_version": "1.5.0",
            "_model_name": "HTMLModel",
            "_view_count": null,
            "_view_module": "@jupyter-widgets/controls",
            "_view_module_version": "1.5.0",
            "_view_name": "HTMLView",
            "description": "",
            "description_tooltip": null,
            "layout": "IPY_MODEL_71e34844660349ea932d97ce51b27315",
            "placeholder": "​",
            "style": "IPY_MODEL_d9cdf229ee354d53876d0a13cafa1aba",
            "value": "Downloading https://raw.githubusercontent.com/stanfordnlp/stanza-resources/main/resources_1.4.1.json: "
          }
        },
        "f8844c471390498fbe48b35a31c2ae32": {
          "model_module": "@jupyter-widgets/controls",
          "model_name": "FloatProgressModel",
          "model_module_version": "1.5.0",
          "state": {
            "_dom_classes": [],
            "_model_module": "@jupyter-widgets/controls",
            "_model_module_version": "1.5.0",
            "_model_name": "FloatProgressModel",
            "_view_count": null,
            "_view_module": "@jupyter-widgets/controls",
            "_view_module_version": "1.5.0",
            "_view_name": "ProgressView",
            "bar_style": "success",
            "description": "",
            "description_tooltip": null,
            "layout": "IPY_MODEL_7388f81514d9423e81a8fdd36da42cd8",
            "max": 28918,
            "min": 0,
            "orientation": "horizontal",
            "style": "IPY_MODEL_c2574a7b384d437ea618d3c59da437dd",
            "value": 28918
          }
        },
        "dc6b4ad5bb7f4db68b399782c9307310": {
          "model_module": "@jupyter-widgets/controls",
          "model_name": "HTMLModel",
          "model_module_version": "1.5.0",
          "state": {
            "_dom_classes": [],
            "_model_module": "@jupyter-widgets/controls",
            "_model_module_version": "1.5.0",
            "_model_name": "HTMLModel",
            "_view_count": null,
            "_view_module": "@jupyter-widgets/controls",
            "_view_module_version": "1.5.0",
            "_view_name": "HTMLView",
            "description": "",
            "description_tooltip": null,
            "layout": "IPY_MODEL_7ab098ce39f544ccbeecd527f5b369b4",
            "placeholder": "​",
            "style": "IPY_MODEL_40e440b342d54414bf724a5556aec58a",
            "value": " 193k/? [00:00&lt;00:00, 5.56MB/s]"
          }
        },
        "badb8596ec26430bbfc48dcc6f97e4f8": {
          "model_module": "@jupyter-widgets/base",
          "model_name": "LayoutModel",
          "model_module_version": "1.2.0",
          "state": {
            "_model_module": "@jupyter-widgets/base",
            "_model_module_version": "1.2.0",
            "_model_name": "LayoutModel",
            "_view_count": null,
            "_view_module": "@jupyter-widgets/base",
            "_view_module_version": "1.2.0",
            "_view_name": "LayoutView",
            "align_content": null,
            "align_items": null,
            "align_self": null,
            "border": null,
            "bottom": null,
            "display": null,
            "flex": null,
            "flex_flow": null,
            "grid_area": null,
            "grid_auto_columns": null,
            "grid_auto_flow": null,
            "grid_auto_rows": null,
            "grid_column": null,
            "grid_gap": null,
            "grid_row": null,
            "grid_template_areas": null,
            "grid_template_columns": null,
            "grid_template_rows": null,
            "height": null,
            "justify_content": null,
            "justify_items": null,
            "left": null,
            "margin": null,
            "max_height": null,
            "max_width": null,
            "min_height": null,
            "min_width": null,
            "object_fit": null,
            "object_position": null,
            "order": null,
            "overflow": null,
            "overflow_x": null,
            "overflow_y": null,
            "padding": null,
            "right": null,
            "top": null,
            "visibility": null,
            "width": null
          }
        },
        "71e34844660349ea932d97ce51b27315": {
          "model_module": "@jupyter-widgets/base",
          "model_name": "LayoutModel",
          "model_module_version": "1.2.0",
          "state": {
            "_model_module": "@jupyter-widgets/base",
            "_model_module_version": "1.2.0",
            "_model_name": "LayoutModel",
            "_view_count": null,
            "_view_module": "@jupyter-widgets/base",
            "_view_module_version": "1.2.0",
            "_view_name": "LayoutView",
            "align_content": null,
            "align_items": null,
            "align_self": null,
            "border": null,
            "bottom": null,
            "display": null,
            "flex": null,
            "flex_flow": null,
            "grid_area": null,
            "grid_auto_columns": null,
            "grid_auto_flow": null,
            "grid_auto_rows": null,
            "grid_column": null,
            "grid_gap": null,
            "grid_row": null,
            "grid_template_areas": null,
            "grid_template_columns": null,
            "grid_template_rows": null,
            "height": null,
            "justify_content": null,
            "justify_items": null,
            "left": null,
            "margin": null,
            "max_height": null,
            "max_width": null,
            "min_height": null,
            "min_width": null,
            "object_fit": null,
            "object_position": null,
            "order": null,
            "overflow": null,
            "overflow_x": null,
            "overflow_y": null,
            "padding": null,
            "right": null,
            "top": null,
            "visibility": null,
            "width": null
          }
        },
        "d9cdf229ee354d53876d0a13cafa1aba": {
          "model_module": "@jupyter-widgets/controls",
          "model_name": "DescriptionStyleModel",
          "model_module_version": "1.5.0",
          "state": {
            "_model_module": "@jupyter-widgets/controls",
            "_model_module_version": "1.5.0",
            "_model_name": "DescriptionStyleModel",
            "_view_count": null,
            "_view_module": "@jupyter-widgets/base",
            "_view_module_version": "1.2.0",
            "_view_name": "StyleView",
            "description_width": ""
          }
        },
        "7388f81514d9423e81a8fdd36da42cd8": {
          "model_module": "@jupyter-widgets/base",
          "model_name": "LayoutModel",
          "model_module_version": "1.2.0",
          "state": {
            "_model_module": "@jupyter-widgets/base",
            "_model_module_version": "1.2.0",
            "_model_name": "LayoutModel",
            "_view_count": null,
            "_view_module": "@jupyter-widgets/base",
            "_view_module_version": "1.2.0",
            "_view_name": "LayoutView",
            "align_content": null,
            "align_items": null,
            "align_self": null,
            "border": null,
            "bottom": null,
            "display": null,
            "flex": null,
            "flex_flow": null,
            "grid_area": null,
            "grid_auto_columns": null,
            "grid_auto_flow": null,
            "grid_auto_rows": null,
            "grid_column": null,
            "grid_gap": null,
            "grid_row": null,
            "grid_template_areas": null,
            "grid_template_columns": null,
            "grid_template_rows": null,
            "height": null,
            "justify_content": null,
            "justify_items": null,
            "left": null,
            "margin": null,
            "max_height": null,
            "max_width": null,
            "min_height": null,
            "min_width": null,
            "object_fit": null,
            "object_position": null,
            "order": null,
            "overflow": null,
            "overflow_x": null,
            "overflow_y": null,
            "padding": null,
            "right": null,
            "top": null,
            "visibility": null,
            "width": null
          }
        },
        "c2574a7b384d437ea618d3c59da437dd": {
          "model_module": "@jupyter-widgets/controls",
          "model_name": "ProgressStyleModel",
          "model_module_version": "1.5.0",
          "state": {
            "_model_module": "@jupyter-widgets/controls",
            "_model_module_version": "1.5.0",
            "_model_name": "ProgressStyleModel",
            "_view_count": null,
            "_view_module": "@jupyter-widgets/base",
            "_view_module_version": "1.2.0",
            "_view_name": "StyleView",
            "bar_color": null,
            "description_width": ""
          }
        },
        "7ab098ce39f544ccbeecd527f5b369b4": {
          "model_module": "@jupyter-widgets/base",
          "model_name": "LayoutModel",
          "model_module_version": "1.2.0",
          "state": {
            "_model_module": "@jupyter-widgets/base",
            "_model_module_version": "1.2.0",
            "_model_name": "LayoutModel",
            "_view_count": null,
            "_view_module": "@jupyter-widgets/base",
            "_view_module_version": "1.2.0",
            "_view_name": "LayoutView",
            "align_content": null,
            "align_items": null,
            "align_self": null,
            "border": null,
            "bottom": null,
            "display": null,
            "flex": null,
            "flex_flow": null,
            "grid_area": null,
            "grid_auto_columns": null,
            "grid_auto_flow": null,
            "grid_auto_rows": null,
            "grid_column": null,
            "grid_gap": null,
            "grid_row": null,
            "grid_template_areas": null,
            "grid_template_columns": null,
            "grid_template_rows": null,
            "height": null,
            "justify_content": null,
            "justify_items": null,
            "left": null,
            "margin": null,
            "max_height": null,
            "max_width": null,
            "min_height": null,
            "min_width": null,
            "object_fit": null,
            "object_position": null,
            "order": null,
            "overflow": null,
            "overflow_x": null,
            "overflow_y": null,
            "padding": null,
            "right": null,
            "top": null,
            "visibility": null,
            "width": null
          }
        },
        "40e440b342d54414bf724a5556aec58a": {
          "model_module": "@jupyter-widgets/controls",
          "model_name": "DescriptionStyleModel",
          "model_module_version": "1.5.0",
          "state": {
            "_model_module": "@jupyter-widgets/controls",
            "_model_module_version": "1.5.0",
            "_model_name": "DescriptionStyleModel",
            "_view_count": null,
            "_view_module": "@jupyter-widgets/base",
            "_view_module_version": "1.2.0",
            "_view_name": "StyleView",
            "description_width": ""
          }
        },
        "8d52eab6a6b9454fa34b5a05fec72c5a": {
          "model_module": "@jupyter-widgets/controls",
          "model_name": "HBoxModel",
          "model_module_version": "1.5.0",
          "state": {
            "_dom_classes": [],
            "_model_module": "@jupyter-widgets/controls",
            "_model_module_version": "1.5.0",
            "_model_name": "HBoxModel",
            "_view_count": null,
            "_view_module": "@jupyter-widgets/controls",
            "_view_module_version": "1.5.0",
            "_view_name": "HBoxView",
            "box_style": "",
            "children": [
              "IPY_MODEL_d553503296584d40ac3dc343b2d18da0",
              "IPY_MODEL_3026408478ce419b81560f70f3b1ffb4",
              "IPY_MODEL_e6d198f6bf3b412b8b230412210881d9"
            ],
            "layout": "IPY_MODEL_e3dbe53c5348418a8b939aee00e16631"
          }
        },
        "d553503296584d40ac3dc343b2d18da0": {
          "model_module": "@jupyter-widgets/controls",
          "model_name": "HTMLModel",
          "model_module_version": "1.5.0",
          "state": {
            "_dom_classes": [],
            "_model_module": "@jupyter-widgets/controls",
            "_model_module_version": "1.5.0",
            "_model_name": "HTMLModel",
            "_view_count": null,
            "_view_module": "@jupyter-widgets/controls",
            "_view_module_version": "1.5.0",
            "_view_name": "HTMLView",
            "description": "",
            "description_tooltip": null,
            "layout": "IPY_MODEL_8aaa34c2152e4d2d86264ba8ed14ad9e",
            "placeholder": "​",
            "style": "IPY_MODEL_ccd87c26c6c54be8bf530a9bfd31e863",
            "value": "Downloading https://huggingface.co/stanfordnlp/stanza-ru/resolve/v1.4.1/models/default.zip: 100%"
          }
        },
        "3026408478ce419b81560f70f3b1ffb4": {
          "model_module": "@jupyter-widgets/controls",
          "model_name": "FloatProgressModel",
          "model_module_version": "1.5.0",
          "state": {
            "_dom_classes": [],
            "_model_module": "@jupyter-widgets/controls",
            "_model_module_version": "1.5.0",
            "_model_name": "FloatProgressModel",
            "_view_count": null,
            "_view_module": "@jupyter-widgets/controls",
            "_view_module_version": "1.5.0",
            "_view_name": "ProgressView",
            "bar_style": "success",
            "description": "",
            "description_tooltip": null,
            "layout": "IPY_MODEL_0a7f45f664ca48eebd34358fd6690b0b",
            "max": 597217093,
            "min": 0,
            "orientation": "horizontal",
            "style": "IPY_MODEL_ec985ca048e844e089e2e05b26c14af3",
            "value": 597217093
          }
        },
        "e6d198f6bf3b412b8b230412210881d9": {
          "model_module": "@jupyter-widgets/controls",
          "model_name": "HTMLModel",
          "model_module_version": "1.5.0",
          "state": {
            "_dom_classes": [],
            "_model_module": "@jupyter-widgets/controls",
            "_model_module_version": "1.5.0",
            "_model_name": "HTMLModel",
            "_view_count": null,
            "_view_module": "@jupyter-widgets/controls",
            "_view_module_version": "1.5.0",
            "_view_name": "HTMLView",
            "description": "",
            "description_tooltip": null,
            "layout": "IPY_MODEL_96ffa93d3c934146a4e73cd57edc91b9",
            "placeholder": "​",
            "style": "IPY_MODEL_56109e37eba54344a0b8af856f2498c9",
            "value": " 597M/597M [00:07&lt;00:00, 72.1MB/s]"
          }
        },
        "e3dbe53c5348418a8b939aee00e16631": {
          "model_module": "@jupyter-widgets/base",
          "model_name": "LayoutModel",
          "model_module_version": "1.2.0",
          "state": {
            "_model_module": "@jupyter-widgets/base",
            "_model_module_version": "1.2.0",
            "_model_name": "LayoutModel",
            "_view_count": null,
            "_view_module": "@jupyter-widgets/base",
            "_view_module_version": "1.2.0",
            "_view_name": "LayoutView",
            "align_content": null,
            "align_items": null,
            "align_self": null,
            "border": null,
            "bottom": null,
            "display": null,
            "flex": null,
            "flex_flow": null,
            "grid_area": null,
            "grid_auto_columns": null,
            "grid_auto_flow": null,
            "grid_auto_rows": null,
            "grid_column": null,
            "grid_gap": null,
            "grid_row": null,
            "grid_template_areas": null,
            "grid_template_columns": null,
            "grid_template_rows": null,
            "height": null,
            "justify_content": null,
            "justify_items": null,
            "left": null,
            "margin": null,
            "max_height": null,
            "max_width": null,
            "min_height": null,
            "min_width": null,
            "object_fit": null,
            "object_position": null,
            "order": null,
            "overflow": null,
            "overflow_x": null,
            "overflow_y": null,
            "padding": null,
            "right": null,
            "top": null,
            "visibility": null,
            "width": null
          }
        },
        "8aaa34c2152e4d2d86264ba8ed14ad9e": {
          "model_module": "@jupyter-widgets/base",
          "model_name": "LayoutModel",
          "model_module_version": "1.2.0",
          "state": {
            "_model_module": "@jupyter-widgets/base",
            "_model_module_version": "1.2.0",
            "_model_name": "LayoutModel",
            "_view_count": null,
            "_view_module": "@jupyter-widgets/base",
            "_view_module_version": "1.2.0",
            "_view_name": "LayoutView",
            "align_content": null,
            "align_items": null,
            "align_self": null,
            "border": null,
            "bottom": null,
            "display": null,
            "flex": null,
            "flex_flow": null,
            "grid_area": null,
            "grid_auto_columns": null,
            "grid_auto_flow": null,
            "grid_auto_rows": null,
            "grid_column": null,
            "grid_gap": null,
            "grid_row": null,
            "grid_template_areas": null,
            "grid_template_columns": null,
            "grid_template_rows": null,
            "height": null,
            "justify_content": null,
            "justify_items": null,
            "left": null,
            "margin": null,
            "max_height": null,
            "max_width": null,
            "min_height": null,
            "min_width": null,
            "object_fit": null,
            "object_position": null,
            "order": null,
            "overflow": null,
            "overflow_x": null,
            "overflow_y": null,
            "padding": null,
            "right": null,
            "top": null,
            "visibility": null,
            "width": null
          }
        },
        "ccd87c26c6c54be8bf530a9bfd31e863": {
          "model_module": "@jupyter-widgets/controls",
          "model_name": "DescriptionStyleModel",
          "model_module_version": "1.5.0",
          "state": {
            "_model_module": "@jupyter-widgets/controls",
            "_model_module_version": "1.5.0",
            "_model_name": "DescriptionStyleModel",
            "_view_count": null,
            "_view_module": "@jupyter-widgets/base",
            "_view_module_version": "1.2.0",
            "_view_name": "StyleView",
            "description_width": ""
          }
        },
        "0a7f45f664ca48eebd34358fd6690b0b": {
          "model_module": "@jupyter-widgets/base",
          "model_name": "LayoutModel",
          "model_module_version": "1.2.0",
          "state": {
            "_model_module": "@jupyter-widgets/base",
            "_model_module_version": "1.2.0",
            "_model_name": "LayoutModel",
            "_view_count": null,
            "_view_module": "@jupyter-widgets/base",
            "_view_module_version": "1.2.0",
            "_view_name": "LayoutView",
            "align_content": null,
            "align_items": null,
            "align_self": null,
            "border": null,
            "bottom": null,
            "display": null,
            "flex": null,
            "flex_flow": null,
            "grid_area": null,
            "grid_auto_columns": null,
            "grid_auto_flow": null,
            "grid_auto_rows": null,
            "grid_column": null,
            "grid_gap": null,
            "grid_row": null,
            "grid_template_areas": null,
            "grid_template_columns": null,
            "grid_template_rows": null,
            "height": null,
            "justify_content": null,
            "justify_items": null,
            "left": null,
            "margin": null,
            "max_height": null,
            "max_width": null,
            "min_height": null,
            "min_width": null,
            "object_fit": null,
            "object_position": null,
            "order": null,
            "overflow": null,
            "overflow_x": null,
            "overflow_y": null,
            "padding": null,
            "right": null,
            "top": null,
            "visibility": null,
            "width": null
          }
        },
        "ec985ca048e844e089e2e05b26c14af3": {
          "model_module": "@jupyter-widgets/controls",
          "model_name": "ProgressStyleModel",
          "model_module_version": "1.5.0",
          "state": {
            "_model_module": "@jupyter-widgets/controls",
            "_model_module_version": "1.5.0",
            "_model_name": "ProgressStyleModel",
            "_view_count": null,
            "_view_module": "@jupyter-widgets/base",
            "_view_module_version": "1.2.0",
            "_view_name": "StyleView",
            "bar_color": null,
            "description_width": ""
          }
        },
        "96ffa93d3c934146a4e73cd57edc91b9": {
          "model_module": "@jupyter-widgets/base",
          "model_name": "LayoutModel",
          "model_module_version": "1.2.0",
          "state": {
            "_model_module": "@jupyter-widgets/base",
            "_model_module_version": "1.2.0",
            "_model_name": "LayoutModel",
            "_view_count": null,
            "_view_module": "@jupyter-widgets/base",
            "_view_module_version": "1.2.0",
            "_view_name": "LayoutView",
            "align_content": null,
            "align_items": null,
            "align_self": null,
            "border": null,
            "bottom": null,
            "display": null,
            "flex": null,
            "flex_flow": null,
            "grid_area": null,
            "grid_auto_columns": null,
            "grid_auto_flow": null,
            "grid_auto_rows": null,
            "grid_column": null,
            "grid_gap": null,
            "grid_row": null,
            "grid_template_areas": null,
            "grid_template_columns": null,
            "grid_template_rows": null,
            "height": null,
            "justify_content": null,
            "justify_items": null,
            "left": null,
            "margin": null,
            "max_height": null,
            "max_width": null,
            "min_height": null,
            "min_width": null,
            "object_fit": null,
            "object_position": null,
            "order": null,
            "overflow": null,
            "overflow_x": null,
            "overflow_y": null,
            "padding": null,
            "right": null,
            "top": null,
            "visibility": null,
            "width": null
          }
        },
        "56109e37eba54344a0b8af856f2498c9": {
          "model_module": "@jupyter-widgets/controls",
          "model_name": "DescriptionStyleModel",
          "model_module_version": "1.5.0",
          "state": {
            "_model_module": "@jupyter-widgets/controls",
            "_model_module_version": "1.5.0",
            "_model_name": "DescriptionStyleModel",
            "_view_count": null,
            "_view_module": "@jupyter-widgets/base",
            "_view_module_version": "1.2.0",
            "_view_name": "StyleView",
            "description_width": ""
          }
        },
        "360cf38f1f2a48e590c569da8e4df752": {
          "model_module": "@jupyter-widgets/controls",
          "model_name": "HBoxModel",
          "model_module_version": "1.5.0",
          "state": {
            "_dom_classes": [],
            "_model_module": "@jupyter-widgets/controls",
            "_model_module_version": "1.5.0",
            "_model_name": "HBoxModel",
            "_view_count": null,
            "_view_module": "@jupyter-widgets/controls",
            "_view_module_version": "1.5.0",
            "_view_name": "HBoxView",
            "box_style": "",
            "children": [
              "IPY_MODEL_280f35c9691c476fa0d58fc96350b790",
              "IPY_MODEL_a0404cb0d10b44fba0fcad6d72501294",
              "IPY_MODEL_22af0af371df494389d7d5adaa3bb901"
            ],
            "layout": "IPY_MODEL_c808602d67874d72923b16c91b567d7f"
          }
        },
        "280f35c9691c476fa0d58fc96350b790": {
          "model_module": "@jupyter-widgets/controls",
          "model_name": "HTMLModel",
          "model_module_version": "1.5.0",
          "state": {
            "_dom_classes": [],
            "_model_module": "@jupyter-widgets/controls",
            "_model_module_version": "1.5.0",
            "_model_name": "HTMLModel",
            "_view_count": null,
            "_view_module": "@jupyter-widgets/controls",
            "_view_module_version": "1.5.0",
            "_view_name": "HTMLView",
            "description": "",
            "description_tooltip": null,
            "layout": "IPY_MODEL_28256d2f7d8c4777b31d018fef0b2c0f",
            "placeholder": "​",
            "style": "IPY_MODEL_4a71e3ea0bcb4844b95d2f9ca5a22c5d",
            "value": "Downloading https://raw.githubusercontent.com/stanfordnlp/stanza-resources/main/resources_1.4.1.json: "
          }
        },
        "a0404cb0d10b44fba0fcad6d72501294": {
          "model_module": "@jupyter-widgets/controls",
          "model_name": "FloatProgressModel",
          "model_module_version": "1.5.0",
          "state": {
            "_dom_classes": [],
            "_model_module": "@jupyter-widgets/controls",
            "_model_module_version": "1.5.0",
            "_model_name": "FloatProgressModel",
            "_view_count": null,
            "_view_module": "@jupyter-widgets/controls",
            "_view_module_version": "1.5.0",
            "_view_name": "ProgressView",
            "bar_style": "success",
            "description": "",
            "description_tooltip": null,
            "layout": "IPY_MODEL_81159015d6f24af5ba1b1243cb2cd6e2",
            "max": 28918,
            "min": 0,
            "orientation": "horizontal",
            "style": "IPY_MODEL_d7eec62576f3446fa82eb1d935f0d0d5",
            "value": 28918
          }
        },
        "22af0af371df494389d7d5adaa3bb901": {
          "model_module": "@jupyter-widgets/controls",
          "model_name": "HTMLModel",
          "model_module_version": "1.5.0",
          "state": {
            "_dom_classes": [],
            "_model_module": "@jupyter-widgets/controls",
            "_model_module_version": "1.5.0",
            "_model_name": "HTMLModel",
            "_view_count": null,
            "_view_module": "@jupyter-widgets/controls",
            "_view_module_version": "1.5.0",
            "_view_name": "HTMLView",
            "description": "",
            "description_tooltip": null,
            "layout": "IPY_MODEL_7f3a06f8d3d94ae4ac0492207e217ea6",
            "placeholder": "​",
            "style": "IPY_MODEL_1193ccabfd004f59b18ff567243bae86",
            "value": " 193k/? [00:00&lt;00:00, 8.70MB/s]"
          }
        },
        "c808602d67874d72923b16c91b567d7f": {
          "model_module": "@jupyter-widgets/base",
          "model_name": "LayoutModel",
          "model_module_version": "1.2.0",
          "state": {
            "_model_module": "@jupyter-widgets/base",
            "_model_module_version": "1.2.0",
            "_model_name": "LayoutModel",
            "_view_count": null,
            "_view_module": "@jupyter-widgets/base",
            "_view_module_version": "1.2.0",
            "_view_name": "LayoutView",
            "align_content": null,
            "align_items": null,
            "align_self": null,
            "border": null,
            "bottom": null,
            "display": null,
            "flex": null,
            "flex_flow": null,
            "grid_area": null,
            "grid_auto_columns": null,
            "grid_auto_flow": null,
            "grid_auto_rows": null,
            "grid_column": null,
            "grid_gap": null,
            "grid_row": null,
            "grid_template_areas": null,
            "grid_template_columns": null,
            "grid_template_rows": null,
            "height": null,
            "justify_content": null,
            "justify_items": null,
            "left": null,
            "margin": null,
            "max_height": null,
            "max_width": null,
            "min_height": null,
            "min_width": null,
            "object_fit": null,
            "object_position": null,
            "order": null,
            "overflow": null,
            "overflow_x": null,
            "overflow_y": null,
            "padding": null,
            "right": null,
            "top": null,
            "visibility": null,
            "width": null
          }
        },
        "28256d2f7d8c4777b31d018fef0b2c0f": {
          "model_module": "@jupyter-widgets/base",
          "model_name": "LayoutModel",
          "model_module_version": "1.2.0",
          "state": {
            "_model_module": "@jupyter-widgets/base",
            "_model_module_version": "1.2.0",
            "_model_name": "LayoutModel",
            "_view_count": null,
            "_view_module": "@jupyter-widgets/base",
            "_view_module_version": "1.2.0",
            "_view_name": "LayoutView",
            "align_content": null,
            "align_items": null,
            "align_self": null,
            "border": null,
            "bottom": null,
            "display": null,
            "flex": null,
            "flex_flow": null,
            "grid_area": null,
            "grid_auto_columns": null,
            "grid_auto_flow": null,
            "grid_auto_rows": null,
            "grid_column": null,
            "grid_gap": null,
            "grid_row": null,
            "grid_template_areas": null,
            "grid_template_columns": null,
            "grid_template_rows": null,
            "height": null,
            "justify_content": null,
            "justify_items": null,
            "left": null,
            "margin": null,
            "max_height": null,
            "max_width": null,
            "min_height": null,
            "min_width": null,
            "object_fit": null,
            "object_position": null,
            "order": null,
            "overflow": null,
            "overflow_x": null,
            "overflow_y": null,
            "padding": null,
            "right": null,
            "top": null,
            "visibility": null,
            "width": null
          }
        },
        "4a71e3ea0bcb4844b95d2f9ca5a22c5d": {
          "model_module": "@jupyter-widgets/controls",
          "model_name": "DescriptionStyleModel",
          "model_module_version": "1.5.0",
          "state": {
            "_model_module": "@jupyter-widgets/controls",
            "_model_module_version": "1.5.0",
            "_model_name": "DescriptionStyleModel",
            "_view_count": null,
            "_view_module": "@jupyter-widgets/base",
            "_view_module_version": "1.2.0",
            "_view_name": "StyleView",
            "description_width": ""
          }
        },
        "81159015d6f24af5ba1b1243cb2cd6e2": {
          "model_module": "@jupyter-widgets/base",
          "model_name": "LayoutModel",
          "model_module_version": "1.2.0",
          "state": {
            "_model_module": "@jupyter-widgets/base",
            "_model_module_version": "1.2.0",
            "_model_name": "LayoutModel",
            "_view_count": null,
            "_view_module": "@jupyter-widgets/base",
            "_view_module_version": "1.2.0",
            "_view_name": "LayoutView",
            "align_content": null,
            "align_items": null,
            "align_self": null,
            "border": null,
            "bottom": null,
            "display": null,
            "flex": null,
            "flex_flow": null,
            "grid_area": null,
            "grid_auto_columns": null,
            "grid_auto_flow": null,
            "grid_auto_rows": null,
            "grid_column": null,
            "grid_gap": null,
            "grid_row": null,
            "grid_template_areas": null,
            "grid_template_columns": null,
            "grid_template_rows": null,
            "height": null,
            "justify_content": null,
            "justify_items": null,
            "left": null,
            "margin": null,
            "max_height": null,
            "max_width": null,
            "min_height": null,
            "min_width": null,
            "object_fit": null,
            "object_position": null,
            "order": null,
            "overflow": null,
            "overflow_x": null,
            "overflow_y": null,
            "padding": null,
            "right": null,
            "top": null,
            "visibility": null,
            "width": null
          }
        },
        "d7eec62576f3446fa82eb1d935f0d0d5": {
          "model_module": "@jupyter-widgets/controls",
          "model_name": "ProgressStyleModel",
          "model_module_version": "1.5.0",
          "state": {
            "_model_module": "@jupyter-widgets/controls",
            "_model_module_version": "1.5.0",
            "_model_name": "ProgressStyleModel",
            "_view_count": null,
            "_view_module": "@jupyter-widgets/base",
            "_view_module_version": "1.2.0",
            "_view_name": "StyleView",
            "bar_color": null,
            "description_width": ""
          }
        },
        "7f3a06f8d3d94ae4ac0492207e217ea6": {
          "model_module": "@jupyter-widgets/base",
          "model_name": "LayoutModel",
          "model_module_version": "1.2.0",
          "state": {
            "_model_module": "@jupyter-widgets/base",
            "_model_module_version": "1.2.0",
            "_model_name": "LayoutModel",
            "_view_count": null,
            "_view_module": "@jupyter-widgets/base",
            "_view_module_version": "1.2.0",
            "_view_name": "LayoutView",
            "align_content": null,
            "align_items": null,
            "align_self": null,
            "border": null,
            "bottom": null,
            "display": null,
            "flex": null,
            "flex_flow": null,
            "grid_area": null,
            "grid_auto_columns": null,
            "grid_auto_flow": null,
            "grid_auto_rows": null,
            "grid_column": null,
            "grid_gap": null,
            "grid_row": null,
            "grid_template_areas": null,
            "grid_template_columns": null,
            "grid_template_rows": null,
            "height": null,
            "justify_content": null,
            "justify_items": null,
            "left": null,
            "margin": null,
            "max_height": null,
            "max_width": null,
            "min_height": null,
            "min_width": null,
            "object_fit": null,
            "object_position": null,
            "order": null,
            "overflow": null,
            "overflow_x": null,
            "overflow_y": null,
            "padding": null,
            "right": null,
            "top": null,
            "visibility": null,
            "width": null
          }
        },
        "1193ccabfd004f59b18ff567243bae86": {
          "model_module": "@jupyter-widgets/controls",
          "model_name": "DescriptionStyleModel",
          "model_module_version": "1.5.0",
          "state": {
            "_model_module": "@jupyter-widgets/controls",
            "_model_module_version": "1.5.0",
            "_model_name": "DescriptionStyleModel",
            "_view_count": null,
            "_view_module": "@jupyter-widgets/base",
            "_view_module_version": "1.2.0",
            "_view_name": "StyleView",
            "description_width": ""
          }
        },
        "918d2ceef1ce4d2fb5e7dbce56075a15": {
          "model_module": "@jupyter-widgets/controls",
          "model_name": "HBoxModel",
          "model_module_version": "1.5.0",
          "state": {
            "_dom_classes": [],
            "_model_module": "@jupyter-widgets/controls",
            "_model_module_version": "1.5.0",
            "_model_name": "HBoxModel",
            "_view_count": null,
            "_view_module": "@jupyter-widgets/controls",
            "_view_module_version": "1.5.0",
            "_view_name": "HBoxView",
            "box_style": "",
            "children": [
              "IPY_MODEL_9bc8c2db0efd41619679560ab14675a8",
              "IPY_MODEL_83b23691a38041db90afefa58935a076",
              "IPY_MODEL_5e3369f98417492381489561b32fe5eb"
            ],
            "layout": "IPY_MODEL_dc319308a0544741979db59fd32c8dcf"
          }
        },
        "9bc8c2db0efd41619679560ab14675a8": {
          "model_module": "@jupyter-widgets/controls",
          "model_name": "HTMLModel",
          "model_module_version": "1.5.0",
          "state": {
            "_dom_classes": [],
            "_model_module": "@jupyter-widgets/controls",
            "_model_module_version": "1.5.0",
            "_model_name": "HTMLModel",
            "_view_count": null,
            "_view_module": "@jupyter-widgets/controls",
            "_view_module_version": "1.5.0",
            "_view_name": "HTMLView",
            "description": "",
            "description_tooltip": null,
            "layout": "IPY_MODEL_38843d8d09304e189ab9765351a59c52",
            "placeholder": "​",
            "style": "IPY_MODEL_8cd1a04679344855a19baf1afc5a8705",
            "value": "Downloading https://raw.githubusercontent.com/stanfordnlp/stanza-resources/main/resources_1.4.1.json: "
          }
        },
        "83b23691a38041db90afefa58935a076": {
          "model_module": "@jupyter-widgets/controls",
          "model_name": "FloatProgressModel",
          "model_module_version": "1.5.0",
          "state": {
            "_dom_classes": [],
            "_model_module": "@jupyter-widgets/controls",
            "_model_module_version": "1.5.0",
            "_model_name": "FloatProgressModel",
            "_view_count": null,
            "_view_module": "@jupyter-widgets/controls",
            "_view_module_version": "1.5.0",
            "_view_name": "ProgressView",
            "bar_style": "success",
            "description": "",
            "description_tooltip": null,
            "layout": "IPY_MODEL_c8a945b9467a4923b145fbae6fe4801b",
            "max": 28918,
            "min": 0,
            "orientation": "horizontal",
            "style": "IPY_MODEL_12e8b67f0718485482578d580a7c292a",
            "value": 28918
          }
        },
        "5e3369f98417492381489561b32fe5eb": {
          "model_module": "@jupyter-widgets/controls",
          "model_name": "HTMLModel",
          "model_module_version": "1.5.0",
          "state": {
            "_dom_classes": [],
            "_model_module": "@jupyter-widgets/controls",
            "_model_module_version": "1.5.0",
            "_model_name": "HTMLModel",
            "_view_count": null,
            "_view_module": "@jupyter-widgets/controls",
            "_view_module_version": "1.5.0",
            "_view_name": "HTMLView",
            "description": "",
            "description_tooltip": null,
            "layout": "IPY_MODEL_df557b5ee6b94346ab684a898f18810e",
            "placeholder": "​",
            "style": "IPY_MODEL_38a5c184efd545c7a919ba091797e5c4",
            "value": " 193k/? [00:00&lt;00:00, 6.48MB/s]"
          }
        },
        "dc319308a0544741979db59fd32c8dcf": {
          "model_module": "@jupyter-widgets/base",
          "model_name": "LayoutModel",
          "model_module_version": "1.2.0",
          "state": {
            "_model_module": "@jupyter-widgets/base",
            "_model_module_version": "1.2.0",
            "_model_name": "LayoutModel",
            "_view_count": null,
            "_view_module": "@jupyter-widgets/base",
            "_view_module_version": "1.2.0",
            "_view_name": "LayoutView",
            "align_content": null,
            "align_items": null,
            "align_self": null,
            "border": null,
            "bottom": null,
            "display": null,
            "flex": null,
            "flex_flow": null,
            "grid_area": null,
            "grid_auto_columns": null,
            "grid_auto_flow": null,
            "grid_auto_rows": null,
            "grid_column": null,
            "grid_gap": null,
            "grid_row": null,
            "grid_template_areas": null,
            "grid_template_columns": null,
            "grid_template_rows": null,
            "height": null,
            "justify_content": null,
            "justify_items": null,
            "left": null,
            "margin": null,
            "max_height": null,
            "max_width": null,
            "min_height": null,
            "min_width": null,
            "object_fit": null,
            "object_position": null,
            "order": null,
            "overflow": null,
            "overflow_x": null,
            "overflow_y": null,
            "padding": null,
            "right": null,
            "top": null,
            "visibility": null,
            "width": null
          }
        },
        "38843d8d09304e189ab9765351a59c52": {
          "model_module": "@jupyter-widgets/base",
          "model_name": "LayoutModel",
          "model_module_version": "1.2.0",
          "state": {
            "_model_module": "@jupyter-widgets/base",
            "_model_module_version": "1.2.0",
            "_model_name": "LayoutModel",
            "_view_count": null,
            "_view_module": "@jupyter-widgets/base",
            "_view_module_version": "1.2.0",
            "_view_name": "LayoutView",
            "align_content": null,
            "align_items": null,
            "align_self": null,
            "border": null,
            "bottom": null,
            "display": null,
            "flex": null,
            "flex_flow": null,
            "grid_area": null,
            "grid_auto_columns": null,
            "grid_auto_flow": null,
            "grid_auto_rows": null,
            "grid_column": null,
            "grid_gap": null,
            "grid_row": null,
            "grid_template_areas": null,
            "grid_template_columns": null,
            "grid_template_rows": null,
            "height": null,
            "justify_content": null,
            "justify_items": null,
            "left": null,
            "margin": null,
            "max_height": null,
            "max_width": null,
            "min_height": null,
            "min_width": null,
            "object_fit": null,
            "object_position": null,
            "order": null,
            "overflow": null,
            "overflow_x": null,
            "overflow_y": null,
            "padding": null,
            "right": null,
            "top": null,
            "visibility": null,
            "width": null
          }
        },
        "8cd1a04679344855a19baf1afc5a8705": {
          "model_module": "@jupyter-widgets/controls",
          "model_name": "DescriptionStyleModel",
          "model_module_version": "1.5.0",
          "state": {
            "_model_module": "@jupyter-widgets/controls",
            "_model_module_version": "1.5.0",
            "_model_name": "DescriptionStyleModel",
            "_view_count": null,
            "_view_module": "@jupyter-widgets/base",
            "_view_module_version": "1.2.0",
            "_view_name": "StyleView",
            "description_width": ""
          }
        },
        "c8a945b9467a4923b145fbae6fe4801b": {
          "model_module": "@jupyter-widgets/base",
          "model_name": "LayoutModel",
          "model_module_version": "1.2.0",
          "state": {
            "_model_module": "@jupyter-widgets/base",
            "_model_module_version": "1.2.0",
            "_model_name": "LayoutModel",
            "_view_count": null,
            "_view_module": "@jupyter-widgets/base",
            "_view_module_version": "1.2.0",
            "_view_name": "LayoutView",
            "align_content": null,
            "align_items": null,
            "align_self": null,
            "border": null,
            "bottom": null,
            "display": null,
            "flex": null,
            "flex_flow": null,
            "grid_area": null,
            "grid_auto_columns": null,
            "grid_auto_flow": null,
            "grid_auto_rows": null,
            "grid_column": null,
            "grid_gap": null,
            "grid_row": null,
            "grid_template_areas": null,
            "grid_template_columns": null,
            "grid_template_rows": null,
            "height": null,
            "justify_content": null,
            "justify_items": null,
            "left": null,
            "margin": null,
            "max_height": null,
            "max_width": null,
            "min_height": null,
            "min_width": null,
            "object_fit": null,
            "object_position": null,
            "order": null,
            "overflow": null,
            "overflow_x": null,
            "overflow_y": null,
            "padding": null,
            "right": null,
            "top": null,
            "visibility": null,
            "width": null
          }
        },
        "12e8b67f0718485482578d580a7c292a": {
          "model_module": "@jupyter-widgets/controls",
          "model_name": "ProgressStyleModel",
          "model_module_version": "1.5.0",
          "state": {
            "_model_module": "@jupyter-widgets/controls",
            "_model_module_version": "1.5.0",
            "_model_name": "ProgressStyleModel",
            "_view_count": null,
            "_view_module": "@jupyter-widgets/base",
            "_view_module_version": "1.2.0",
            "_view_name": "StyleView",
            "bar_color": null,
            "description_width": ""
          }
        },
        "df557b5ee6b94346ab684a898f18810e": {
          "model_module": "@jupyter-widgets/base",
          "model_name": "LayoutModel",
          "model_module_version": "1.2.0",
          "state": {
            "_model_module": "@jupyter-widgets/base",
            "_model_module_version": "1.2.0",
            "_model_name": "LayoutModel",
            "_view_count": null,
            "_view_module": "@jupyter-widgets/base",
            "_view_module_version": "1.2.0",
            "_view_name": "LayoutView",
            "align_content": null,
            "align_items": null,
            "align_self": null,
            "border": null,
            "bottom": null,
            "display": null,
            "flex": null,
            "flex_flow": null,
            "grid_area": null,
            "grid_auto_columns": null,
            "grid_auto_flow": null,
            "grid_auto_rows": null,
            "grid_column": null,
            "grid_gap": null,
            "grid_row": null,
            "grid_template_areas": null,
            "grid_template_columns": null,
            "grid_template_rows": null,
            "height": null,
            "justify_content": null,
            "justify_items": null,
            "left": null,
            "margin": null,
            "max_height": null,
            "max_width": null,
            "min_height": null,
            "min_width": null,
            "object_fit": null,
            "object_position": null,
            "order": null,
            "overflow": null,
            "overflow_x": null,
            "overflow_y": null,
            "padding": null,
            "right": null,
            "top": null,
            "visibility": null,
            "width": null
          }
        },
        "38a5c184efd545c7a919ba091797e5c4": {
          "model_module": "@jupyter-widgets/controls",
          "model_name": "DescriptionStyleModel",
          "model_module_version": "1.5.0",
          "state": {
            "_model_module": "@jupyter-widgets/controls",
            "_model_module_version": "1.5.0",
            "_model_name": "DescriptionStyleModel",
            "_view_count": null,
            "_view_module": "@jupyter-widgets/base",
            "_view_module_version": "1.2.0",
            "_view_name": "StyleView",
            "description_width": ""
          }
        }
      }
    }
  },
  "nbformat": 4,
  "nbformat_minor": 5
}