{
  "cells": [
    {
      "cell_type": "markdown",
      "source": [
        "## Установка и загрузка библиотек"
      ],
      "metadata": {
        "id": "FeI6eIPo1SHt"
      },
      "id": "FeI6eIPo1SHt"
    },
    {
      "cell_type": "code",
      "source": [
        "!pip3 install python-rake"
      ],
      "metadata": {
        "colab": {
          "base_uri": "https://localhost:8080/"
        },
        "id": "xHCupj8x17-l",
        "outputId": "069efa9e-a701-4d67-9732-2b8262113510"
      },
      "id": "xHCupj8x17-l",
      "execution_count": 1,
      "outputs": [
        {
          "output_type": "stream",
          "name": "stdout",
          "text": [
            "Looking in indexes: https://pypi.org/simple, https://us-python.pkg.dev/colab-wheels/public/simple/\n",
            "Requirement already satisfied: python-rake in /usr/local/lib/python3.7/dist-packages (1.5.0)\n"
          ]
        }
      ]
    },
    {
      "cell_type": "code",
      "source": [
        "!pip3 install keybert"
      ],
      "metadata": {
        "colab": {
          "base_uri": "https://localhost:8080/"
        },
        "id": "CGU2JNkojhA5",
        "outputId": "d24173aa-7ec1-49c8-f2f3-a09304e3ca29"
      },
      "id": "CGU2JNkojhA5",
      "execution_count": 2,
      "outputs": [
        {
          "output_type": "stream",
          "name": "stdout",
          "text": [
            "Looking in indexes: https://pypi.org/simple, https://us-python.pkg.dev/colab-wheels/public/simple/\n",
            "Requirement already satisfied: keybert in /usr/local/lib/python3.7/dist-packages (0.7.0)\n",
            "Requirement already satisfied: scikit-learn>=0.22.2 in /usr/local/lib/python3.7/dist-packages (from keybert) (1.0.2)\n",
            "Requirement already satisfied: rich>=10.4.0 in /usr/local/lib/python3.7/dist-packages (from keybert) (12.6.0)\n",
            "Requirement already satisfied: sentence-transformers>=0.3.8 in /usr/local/lib/python3.7/dist-packages (from keybert) (2.2.2)\n",
            "Requirement already satisfied: numpy>=1.18.5 in /usr/local/lib/python3.7/dist-packages (from keybert) (1.21.6)\n",
            "Requirement already satisfied: commonmark<0.10.0,>=0.9.0 in /usr/local/lib/python3.7/dist-packages (from rich>=10.4.0->keybert) (0.9.1)\n",
            "Requirement already satisfied: pygments<3.0.0,>=2.6.0 in /usr/local/lib/python3.7/dist-packages (from rich>=10.4.0->keybert) (2.6.1)\n",
            "Requirement already satisfied: typing-extensions<5.0,>=4.0.0 in /usr/local/lib/python3.7/dist-packages (from rich>=10.4.0->keybert) (4.1.1)\n",
            "Requirement already satisfied: scipy>=1.1.0 in /usr/local/lib/python3.7/dist-packages (from scikit-learn>=0.22.2->keybert) (1.7.3)\n",
            "Requirement already satisfied: threadpoolctl>=2.0.0 in /usr/local/lib/python3.7/dist-packages (from scikit-learn>=0.22.2->keybert) (3.1.0)\n",
            "Requirement already satisfied: joblib>=0.11 in /usr/local/lib/python3.7/dist-packages (from scikit-learn>=0.22.2->keybert) (1.2.0)\n",
            "Requirement already satisfied: tqdm in /usr/local/lib/python3.7/dist-packages (from sentence-transformers>=0.3.8->keybert) (4.64.1)\n",
            "Requirement already satisfied: nltk in /usr/local/lib/python3.7/dist-packages (from sentence-transformers>=0.3.8->keybert) (3.7)\n",
            "Requirement already satisfied: huggingface-hub>=0.4.0 in /usr/local/lib/python3.7/dist-packages (from sentence-transformers>=0.3.8->keybert) (0.11.0)\n",
            "Requirement already satisfied: sentencepiece in /usr/local/lib/python3.7/dist-packages (from sentence-transformers>=0.3.8->keybert) (0.1.97)\n",
            "Requirement already satisfied: torchvision in /usr/local/lib/python3.7/dist-packages (from sentence-transformers>=0.3.8->keybert) (0.13.1+cu113)\n",
            "Requirement already satisfied: torch>=1.6.0 in /usr/local/lib/python3.7/dist-packages (from sentence-transformers>=0.3.8->keybert) (1.12.1+cu113)\n",
            "Requirement already satisfied: transformers<5.0.0,>=4.6.0 in /usr/local/lib/python3.7/dist-packages (from sentence-transformers>=0.3.8->keybert) (4.24.0)\n",
            "Requirement already satisfied: importlib-metadata in /usr/local/lib/python3.7/dist-packages (from huggingface-hub>=0.4.0->sentence-transformers>=0.3.8->keybert) (4.13.0)\n",
            "Requirement already satisfied: filelock in /usr/local/lib/python3.7/dist-packages (from huggingface-hub>=0.4.0->sentence-transformers>=0.3.8->keybert) (3.8.0)\n",
            "Requirement already satisfied: pyyaml>=5.1 in /usr/local/lib/python3.7/dist-packages (from huggingface-hub>=0.4.0->sentence-transformers>=0.3.8->keybert) (6.0)\n",
            "Requirement already satisfied: requests in /usr/local/lib/python3.7/dist-packages (from huggingface-hub>=0.4.0->sentence-transformers>=0.3.8->keybert) (2.23.0)\n",
            "Requirement already satisfied: packaging>=20.9 in /usr/local/lib/python3.7/dist-packages (from huggingface-hub>=0.4.0->sentence-transformers>=0.3.8->keybert) (21.3)\n",
            "Requirement already satisfied: pyparsing!=3.0.5,>=2.0.2 in /usr/local/lib/python3.7/dist-packages (from packaging>=20.9->huggingface-hub>=0.4.0->sentence-transformers>=0.3.8->keybert) (3.0.9)\n",
            "Requirement already satisfied: regex!=2019.12.17 in /usr/local/lib/python3.7/dist-packages (from transformers<5.0.0,>=4.6.0->sentence-transformers>=0.3.8->keybert) (2022.6.2)\n",
            "Requirement already satisfied: tokenizers!=0.11.3,<0.14,>=0.11.1 in /usr/local/lib/python3.7/dist-packages (from transformers<5.0.0,>=4.6.0->sentence-transformers>=0.3.8->keybert) (0.13.2)\n",
            "Requirement already satisfied: zipp>=0.5 in /usr/local/lib/python3.7/dist-packages (from importlib-metadata->huggingface-hub>=0.4.0->sentence-transformers>=0.3.8->keybert) (3.10.0)\n",
            "Requirement already satisfied: click in /usr/local/lib/python3.7/dist-packages (from nltk->sentence-transformers>=0.3.8->keybert) (7.1.2)\n",
            "Requirement already satisfied: urllib3!=1.25.0,!=1.25.1,<1.26,>=1.21.1 in /usr/local/lib/python3.7/dist-packages (from requests->huggingface-hub>=0.4.0->sentence-transformers>=0.3.8->keybert) (1.24.3)\n",
            "Requirement already satisfied: certifi>=2017.4.17 in /usr/local/lib/python3.7/dist-packages (from requests->huggingface-hub>=0.4.0->sentence-transformers>=0.3.8->keybert) (2022.9.24)\n",
            "Requirement already satisfied: chardet<4,>=3.0.2 in /usr/local/lib/python3.7/dist-packages (from requests->huggingface-hub>=0.4.0->sentence-transformers>=0.3.8->keybert) (3.0.4)\n",
            "Requirement already satisfied: idna<3,>=2.5 in /usr/local/lib/python3.7/dist-packages (from requests->huggingface-hub>=0.4.0->sentence-transformers>=0.3.8->keybert) (2.10)\n",
            "Requirement already satisfied: pillow!=8.3.*,>=5.3.0 in /usr/local/lib/python3.7/dist-packages (from torchvision->sentence-transformers>=0.3.8->keybert) (7.1.2)\n"
          ]
        }
      ]
    },
    {
      "cell_type": "code",
      "source": [
        "!pip3 install summa"
      ],
      "metadata": {
        "colab": {
          "base_uri": "https://localhost:8080/"
        },
        "id": "gS6jFBjo_3iV",
        "outputId": "b9ddfa84-a1ab-4a07-b515-5d2adf33f8d6"
      },
      "id": "gS6jFBjo_3iV",
      "execution_count": 3,
      "outputs": [
        {
          "output_type": "stream",
          "name": "stdout",
          "text": [
            "Looking in indexes: https://pypi.org/simple, https://us-python.pkg.dev/colab-wheels/public/simple/\n",
            "Requirement already satisfied: summa in /usr/local/lib/python3.7/dist-packages (1.2.0)\n",
            "Requirement already satisfied: scipy>=0.19 in /usr/local/lib/python3.7/dist-packages (from summa) (1.7.3)\n",
            "Requirement already satisfied: numpy<1.23.0,>=1.16.5 in /usr/local/lib/python3.7/dist-packages (from scipy>=0.19->summa) (1.21.6)\n"
          ]
        }
      ]
    },
    {
      "cell_type": "code",
      "source": [
        "!pip install pymorphy2"
      ],
      "metadata": {
        "colab": {
          "base_uri": "https://localhost:8080/"
        },
        "id": "OZJs3dBI8_I7",
        "outputId": "e90c8c69-7092-497c-e962-1869b0db12ab"
      },
      "id": "OZJs3dBI8_I7",
      "execution_count": 4,
      "outputs": [
        {
          "output_type": "stream",
          "name": "stdout",
          "text": [
            "Looking in indexes: https://pypi.org/simple, https://us-python.pkg.dev/colab-wheels/public/simple/\n",
            "Requirement already satisfied: pymorphy2 in /usr/local/lib/python3.7/dist-packages (0.9.1)\n",
            "Requirement already satisfied: dawg-python>=0.7.1 in /usr/local/lib/python3.7/dist-packages (from pymorphy2) (0.7.2)\n",
            "Requirement already satisfied: docopt>=0.6 in /usr/local/lib/python3.7/dist-packages (from pymorphy2) (0.6.2)\n",
            "Requirement already satisfied: pymorphy2-dicts-ru<3.0,>=2.4 in /usr/local/lib/python3.7/dist-packages (from pymorphy2) (2.4.417127.4579844)\n"
          ]
        }
      ]
    },
    {
      "cell_type": "code",
      "execution_count": 5,
      "id": "4c7694bb",
      "metadata": {
        "id": "4c7694bb",
        "colab": {
          "base_uri": "https://localhost:8080/"
        },
        "outputId": "fb92448d-c047-43d9-9521-b9877ac931ca"
      },
      "outputs": [
        {
          "output_type": "stream",
          "name": "stderr",
          "text": [
            "[nltk_data] Downloading package stopwords to /root/nltk_data...\n",
            "[nltk_data]   Package stopwords is already up-to-date!\n"
          ]
        }
      ],
      "source": [
        "import io\n",
        "import pandas as pd\n",
        "from nltk.tokenize import RegexpTokenizer\n",
        "import RAKE\n",
        "import nltk\n",
        "nltk.download('stopwords')\n",
        "from nltk.corpus import stopwords\n",
        "from pymorphy2 import MorphAnalyzer\n",
        "from pymorphy2.tokenizers import simple_word_tokenize\n",
        "from summa import keywords\n",
        "from keybert import KeyBERT"
      ]
    },
    {
      "cell_type": "markdown",
      "source": [
        "## Информация о мини-корпусе и ключевых словах в нём"
      ],
      "metadata": {
        "id": "vqr9m4E7YUHx"
      },
      "id": "vqr9m4E7YUHx"
    },
    {
      "cell_type": "markdown",
      "id": "240ec4da",
      "metadata": {
        "id": "240ec4da"
      },
      "source": [
        "В качестве мини-корпуса с разметкой ключевых слов были использованы материалы ресурса postnauka.ru (ссылки на использованные страницы находятся в датасете). Ключевые слова на \"Постнауке\" представляют собой скорее список тегов-категорий, которые позволяют классифицировать тексты на портале. "
      ]
    },
    {
      "cell_type": "markdown",
      "source": [
        "Загрузка мини-корпуса:"
      ],
      "metadata": {
        "id": "nsapOzzCSJy8"
      },
      "id": "nsapOzzCSJy8"
    },
    {
      "cell_type": "code",
      "source": [
        "url = 'https://github.com/asyakarysheva/NLP_2022/blob/main/hw1/hw1_corpus.xlsx?raw=true'\n",
        "corpus = pd.read_excel(url) "
      ],
      "metadata": {
        "id": "7diKhFAYSHyE"
      },
      "id": "7diKhFAYSHyE",
      "execution_count": 6,
      "outputs": []
    },
    {
      "cell_type": "markdown",
      "source": [
        "Можно посчитать объём корпуса в текстах:"
      ],
      "metadata": {
        "id": "5EhNowKfWC1c"
      },
      "id": "5EhNowKfWC1c"
    },
    {
      "cell_type": "code",
      "source": [
        "len(corpus)"
      ],
      "metadata": {
        "colab": {
          "base_uri": "https://localhost:8080/"
        },
        "id": "bRH_14xxV-iA",
        "outputId": "a3282a9d-4984-4865-8943-8a84c4be1474"
      },
      "id": "bRH_14xxV-iA",
      "execution_count": 7,
      "outputs": [
        {
          "output_type": "execute_result",
          "data": {
            "text/plain": [
              "6"
            ]
          },
          "metadata": {},
          "execution_count": 7
        }
      ]
    },
    {
      "cell_type": "markdown",
      "source": [
        "И в токенах:"
      ],
      "metadata": {
        "id": "FkctAe9HWp5O"
      },
      "id": "FkctAe9HWp5O"
    },
    {
      "cell_type": "code",
      "source": [
        "tokenizer = RegexpTokenizer(r'\\w+')\n",
        "texts = corpus['text'].apply(tokenizer.tokenize).tolist()\n",
        "tokens_number = 0\n",
        "for text in texts:\n",
        "    tokens_number += len(text)\n",
        "tokens_number"
      ],
      "metadata": {
        "colab": {
          "base_uri": "https://localhost:8080/"
        },
        "id": "9Y71i34lWyco",
        "outputId": "105b7743-08ea-4647-a1c1-88f9e6e732a6"
      },
      "id": "9Y71i34lWyco",
      "execution_count": 8,
      "outputs": [
        {
          "output_type": "execute_result",
          "data": {
            "text/plain": [
              "5152"
            ]
          },
          "metadata": {},
          "execution_count": 8
        }
      ]
    },
    {
      "cell_type": "markdown",
      "source": [
        "Вот как выглядит представленный на сайте набор ключевых слов для нулевого текста из мини-корпуса:"
      ],
      "metadata": {
        "id": "Lj8LhUWyX7Nu"
      },
      "id": "Lj8LhUWyX7Nu"
    },
    {
      "cell_type": "code",
      "source": [
        "corpus['key_words_standard'][0]"
      ],
      "metadata": {
        "colab": {
          "base_uri": "https://localhost:8080/",
          "height": 1000
        },
        "id": "2k4OnsZdXgo6",
        "outputId": "c37ce40e-3901-47d8-9dcd-10a6c45e995c"
      },
      "id": "2k4OnsZdXgo6",
      "execution_count": 9,
      "outputs": [
        {
          "output_type": "execute_result",
          "data": {
            "text/plain": [
              "'ПСИХОЛОГИЯ, МОЗГ, КОГНИТИВНАЯ ПСИХОЛОГИЯ, ВНИМАНИЕ, ВОСПРИЯТИЕ, СЛУХ, ПСИХОЛОГИЧЕСКИЙ ЭФФЕКТ, КОГНИТИВНЫЕ НАУКИ, ЖУРНАЛ'"
            ],
            "application/vnd.google.colaboratory.intrinsic+json": {
              "type": "string"
            }
          },
          "metadata": {},
          "execution_count": 9
        }
      ]
    },
    {
      "cell_type": "markdown",
      "source": [
        "## Самостоятельная разметка ключевых слов, составление эталона разметки"
      ],
      "metadata": {
        "id": "ac9uzzjlzNJp"
      },
      "id": "ac9uzzjlzNJp"
    },
    {
      "cell_type": "markdown",
      "source": [
        "Так выглядят ключевые слова, выделенные мной, для нулевого текста в выборке:"
      ],
      "metadata": {
        "id": "eFH_j-M2YLRE"
      },
      "id": "eFH_j-M2YLRE"
    },
    {
      "cell_type": "code",
      "source": [
        "corpus['key_words'][0]"
      ],
      "metadata": {
        "colab": {
          "base_uri": "https://localhost:8080/",
          "height": 37
        },
        "id": "uQF9-codYO9U",
        "outputId": "6364da19-f6e6-4eb4-ebef-b2c34ea6c3e6"
      },
      "id": "uQF9-codYO9U",
      "execution_count": 10,
      "outputs": [
        {
          "output_type": "execute_result",
          "data": {
            "text/plain": [
              "'эффект коктейльной вечеринки, бинауральность, селективное внимание, субъективно важные сообщения, фильтр, ослабление, фоновый шум'"
            ],
            "application/vnd.google.colaboratory.intrinsic+json": {
              "type": "string"
            }
          },
          "metadata": {},
          "execution_count": 10
        }
      ]
    },
    {
      "cell_type": "markdown",
      "source": [
        "Насколько ключевые слова с \"Постнауки\" пересекаются с моими ключевыми словами?"
      ],
      "metadata": {
        "id": "5O94-7fRYvaX"
      },
      "id": "5O94-7fRYvaX"
    },
    {
      "cell_type": "code",
      "source": [
        "key_words_standard = []\n",
        "for key_word_set in list(corpus['key_words_standard']):\n",
        "    key_word_set = key_word_set.lower()\n",
        "    key_words_split = key_word_set.split(', ')\n",
        "    key_words_standard.append(key_words_split)\n",
        "\n",
        "key_words = []\n",
        "for key_word_set in list(corpus['key_words']):\n",
        "    key_word_set = key_word_set.lower()\n",
        "    key_words_split = key_word_set.split(', ')\n",
        "    key_words.append(key_words_split)"
      ],
      "metadata": {
        "id": "tc3W96emY1DU"
      },
      "id": "tc3W96emY1DU",
      "execution_count": 11,
      "outputs": []
    },
    {
      "cell_type": "code",
      "source": [
        "intersections = []\n",
        "for key_word_standard, key_word in zip(key_words_standard, key_words):\n",
        "    intersections.append(list(set(key_word_standard) & set(key_word)))\n",
        "intersections"
      ],
      "metadata": {
        "colab": {
          "base_uri": "https://localhost:8080/"
        },
        "id": "5PrDbVRxaz1u",
        "outputId": "ad85e41c-19d6-4e33-8ac0-a9448531d75e"
      },
      "id": "5PrDbVRxaz1u",
      "execution_count": 12,
      "outputs": [
        {
          "output_type": "execute_result",
          "data": {
            "text/plain": [
              "[[], ['слух'], ['культура'], [], [], []]"
            ]
          },
          "metadata": {},
          "execution_count": 12
        }
      ]
    },
    {
      "cell_type": "markdown",
      "source": [
        "Пересечений крайне мало – в ключевых словах всего для двух текстов совпадает только одно ключевое слово; ключевые слова для остальных текстов не пересекаются. Можно предположить, что почти полное отсутствие пересечений связно с разными представлениями о ключевых словах у редакторов \"Постнауки\" и у меня. Кроме того, в ключевых словах, выделенных мной, встречается больше биграмм и триграмм.\n",
        "\n",
        "В качестве эталона разметки выбрано объединение ключевых слов:"
      ],
      "metadata": {
        "id": "hJjR5XCwcWjD"
      },
      "id": "hJjR5XCwcWjD"
    },
    {
      "cell_type": "code",
      "source": [
        "reference = []\n",
        "for key_word_standard, key_word in zip(key_words_standard, key_words):\n",
        "    in_key_word_standard = set(key_word_standard)\n",
        "    in_key_word = set(key_word)\n",
        "\n",
        "    in_keyword_but_not_in_standard = in_key_word - in_key_word_standard\n",
        "\n",
        "    result = key_word_standard + list(in_keyword_but_not_in_standard)\n",
        "    reference.append(result)"
      ],
      "metadata": {
        "id": "uJcWZsSVdIl6"
      },
      "id": "uJcWZsSVdIl6",
      "execution_count": 13,
      "outputs": []
    },
    {
      "cell_type": "markdown",
      "source": [
        "Ключевые слова для текстов выглядят так:"
      ],
      "metadata": {
        "id": "r6_SEE_J0B6B"
      },
      "id": "r6_SEE_J0B6B"
    },
    {
      "cell_type": "code",
      "source": [
        "reference"
      ],
      "metadata": {
        "colab": {
          "base_uri": "https://localhost:8080/"
        },
        "id": "hwA9GUTfdwtG",
        "outputId": "7b8cb885-83f4-46d2-8b23-cda118d7b4c4"
      },
      "id": "hwA9GUTfdwtG",
      "execution_count": 14,
      "outputs": [
        {
          "output_type": "execute_result",
          "data": {
            "text/plain": [
              "[['психология',\n",
              "  'мозг',\n",
              "  'когнитивная психология',\n",
              "  'внимание',\n",
              "  'восприятие',\n",
              "  'слух',\n",
              "  'психологический эффект',\n",
              "  'когнитивные науки',\n",
              "  'журнал',\n",
              "  'эффект коктейльной вечеринки',\n",
              "  'ослабление',\n",
              "  'бинауральность',\n",
              "  'селективное внимание',\n",
              "  'субъективно важные сообщения',\n",
              "  'фильтр',\n",
              "  'фоновый шум'],\n",
              " ['биология',\n",
              "  'технологии',\n",
              "  'информационные технологии',\n",
              "  'слух',\n",
              "  'естественные науки',\n",
              "  'журнал',\n",
              "  'телефон',\n",
              "  'звук',\n",
              "  'заушный аппарат',\n",
              "  'диапазон',\n",
              "  'слуховой аппарат',\n",
              "  'речь',\n",
              "  'внутриканальный аппарат',\n",
              "  'усилитель',\n",
              "  'ухо',\n",
              "  'микрофон'],\n",
              " ['культура',\n",
              "  'массовая культура',\n",
              "  'народная культура',\n",
              "  'мода',\n",
              "  'молодежь',\n",
              "  'гуманитарные науки',\n",
              "  'журнал',\n",
              "  'комфорт',\n",
              "  'юмор',\n",
              "  'красота',\n",
              "  'уродливые вещи',\n",
              "  'норма',\n",
              "  'устойчивость',\n",
              "  'пластичность гендера',\n",
              "  'расслабленность',\n",
              "  'полифония',\n",
              "  'поп-культура',\n",
              "  'уродливая мода'],\n",
              " ['социология',\n",
              "  'поведение человека',\n",
              "  'социология повседневности',\n",
              "  'эксперимент',\n",
              "  'социальные науки',\n",
              "  'журнал',\n",
              "  'отвлекающий фактор',\n",
              "  'награда',\n",
              "  'доверие к обществу',\n",
              "  'критиковать',\n",
              "  'восприятие времени',\n",
              "  'отсроченное удовольствие',\n",
              "  'стэнфордский зефирный эксперимент',\n",
              "  'самоконтроль'],\n",
              " ['химия',\n",
              "  'биохимия',\n",
              "  'алкоголь',\n",
              "  'естественные науки',\n",
              "  'журнал',\n",
              "  'сусло',\n",
              "  'ферментация',\n",
              "  'солод',\n",
              "  'кондиционирование',\n",
              "  'пиво',\n",
              "  'пивоварение',\n",
              "  'хмель'],\n",
              " ['история',\n",
              "  'технологии',\n",
              "  'археология',\n",
              "  'гуманитарные науки',\n",
              "  'журнал',\n",
              "  'механический',\n",
              "  'античный',\n",
              "  'антикитерский механизм',\n",
              "  'циферблат']]"
            ]
          },
          "metadata": {},
          "execution_count": 14
        }
      ]
    },
    {
      "cell_type": "markdown",
      "source": [
        "## Методы извлечения ключевых слов"
      ],
      "metadata": {
        "id": "nqBGU8ae0HmR"
      },
      "id": "nqBGU8ae0HmR"
    },
    {
      "cell_type": "markdown",
      "source": [
        "### Предобработка текстов\n",
        "\n",
        "Тексты нужно нормализовать."
      ],
      "metadata": {
        "id": "lvZDaRL98wrW"
      },
      "id": "lvZDaRL98wrW"
    },
    {
      "cell_type": "code",
      "source": [
        "m = MorphAnalyzer()\n",
        "def normalize_text(text):\n",
        "    lemmas = []\n",
        "    for t in simple_word_tokenize(text):\n",
        "        lemmas.append(\n",
        "            m.parse(t)[0].normal_form\n",
        "        )\n",
        "    return ' '.join(lemmas)"
      ],
      "metadata": {
        "id": "kLbIa5gj8wIh"
      },
      "id": "kLbIa5gj8wIh",
      "execution_count": 15,
      "outputs": []
    },
    {
      "cell_type": "code",
      "source": [
        "# Нужно создать список с текстами:\n",
        "corpus_texts = corpus['text'].tolist()"
      ],
      "metadata": {
        "id": "YcOYB7bc2RZJ"
      },
      "id": "YcOYB7bc2RZJ",
      "execution_count": 16,
      "outputs": []
    },
    {
      "cell_type": "code",
      "source": [
        "normalized_texts = []\n",
        "for text in corpus_texts:\n",
        "    normalized_text = normalize_text(text)\n",
        "    normalized_texts.append(normalized_text)"
      ],
      "metadata": {
        "id": "sY5Rv-N--qLz"
      },
      "id": "sY5Rv-N--qLz",
      "execution_count": 17,
      "outputs": []
    },
    {
      "cell_type": "markdown",
      "source": [
        "### RAKE"
      ],
      "metadata": {
        "id": "N7GZ-rY32JA8"
      },
      "id": "N7GZ-rY32JA8"
    },
    {
      "cell_type": "code",
      "source": [
        "# Загрузка стоп-слов\n",
        "stop = stopwords.words('russian')\n",
        "# Инициализируем анализатор списком стоп-слов\n",
        "rake = RAKE.Rake(stop)"
      ],
      "metadata": {
        "id": "r48qzEtF1mDc"
      },
      "id": "r48qzEtF1mDc",
      "execution_count": 18,
      "outputs": []
    },
    {
      "cell_type": "code",
      "source": [
        "key_words_RAKE = []\n",
        "for text in normalized_texts:\n",
        "    kw_list = rake.run(text, maxWords=3, minFrequency=2)  # в эталоне разметки есть триграммы, поэтому maxWords=3\n",
        "    key_words_RAKE.append(kw_list) "
      ],
      "metadata": {
        "id": "r7m8xq_D8Qsd"
      },
      "id": "r7m8xq_D8Qsd",
      "execution_count": 19,
      "outputs": []
    },
    {
      "cell_type": "code",
      "source": [
        "key_words_RAKE"
      ],
      "metadata": {
        "colab": {
          "base_uri": "https://localhost:8080/"
        },
        "id": "BGmJbsYc8m0m",
        "outputId": "05d11437-ae12-497d-ec20-9eaea23b43bb"
      },
      "id": "BGmJbsYc8m0m",
      "execution_count": 20,
      "outputs": [
        {
          "output_type": "execute_result",
          "data": {
            "text/plain": [
              "[[('обращать внимание', 4.0),\n",
              "  ('информация', 2.3),\n",
              "  ('который', 2.0),\n",
              "  ('голос', 1.6666666666666667),\n",
              "  ('нужный', 1.6666666666666667),\n",
              "  ('модель', 1.6666666666666667),\n",
              "  ('шум', 1.4),\n",
              "  ('канал', 1.1666666666666667),\n",
              "  ('кроме', 1.0),\n",
              "  ('проблема', 1.0),\n",
              "  ('мозг', 1.0),\n",
              "  ('основа', 1.0),\n",
              "  ('—', 0)],\n",
              " [('слуховой аппарат уменьшаться', 8.11111111111111),\n",
              "  ('который помещаться', 4.619047619047619),\n",
              "  ('который использоваться', 4.285714285714286),\n",
              "  ('который работать', 4.285714285714286),\n",
              "  ('поздний появиться', 4.0),\n",
              "  ('аппарат', 2.3333333333333335),\n",
              "  ('телефон', 1.75),\n",
              "  ('усилитель', 1.5),\n",
              "  ('ухо', 1.2),\n",
              "  ('это', 1.1666666666666667),\n",
              "  ('принцип', 1.0),\n",
              "  ('состоять', 1.0),\n",
              "  ('микрофон', 1.0),\n",
              "  ('смартфон', 1.0),\n",
              "  ('разбор', 1.0),\n",
              "  ('человек', 1.0),\n",
              "  ('уха', 1.0),\n",
              "  ('проводы', 1.0),\n",
              "  ('сначала', 1.0)],\n",
              " [('свой тело', 4.333333333333334),\n",
              "  ('иметь дело', 4.0),\n",
              "  ('2010-й год', 3.75),\n",
              "  ('одежда', 2.0),\n",
              "  ('это', 2.0),\n",
              "  ('который', 1.8333333333333333),\n",
              "  ('сегодня', 1.75),\n",
              "  ('казаться', 1.6666666666666667),\n",
              "  ('мода', 1.625),\n",
              "  ('тренд', 1.6),\n",
              "  ('комфорт', 1.2),\n",
              "  ('инклюзивность', 1.0),\n",
              "  ('сложиться', 1.0),\n",
              "  ('кроме', 1.0),\n",
              "  ('пандемия', 1.0),\n",
              "  ('работать', 1.0),\n",
              "  ('отказаться', 1.0),\n",
              "  ('вместе', 1.0)],\n",
              " [('мочь ждать долгий', 8.833333333333334),\n",
              "  ('зефирный эксперимент', 4.181818181818182),\n",
              "  ('самоконтроль', 2.2),\n",
              "  ('провести', 1.75),\n",
              "  ('ребёнок', 1.7333333333333334),\n",
              "  ('показать', 1.5),\n",
              "  ('это', 1.2),\n",
              "  ('комната', 1.0),\n",
              "  ('образ', 1.0),\n",
              "  ('опубликовать', 1.0),\n",
              "  ('40 год', 1.0),\n",
              "  ('5', 0)],\n",
              " [('хмель', 1.5), ('дрожжи', 1.0)],\n",
              " [('период лунно-солнечный цикл', 12.333333333333332),\n",
              "  ('приводить друг друг', 9.0),\n",
              "  ('крайне сложно создать', 9.0),\n",
              "  ('расчёт орбита планета', 9.0),\n",
              "  ('произвести гиппарх никейский', 9.0),\n",
              "  ('помощь рентгеновский томография', 9.0),\n",
              "  ('самый актуальный модель', 9.0),\n",
              "  ('результат подтвердиться гипотеза', 9.0),\n",
              "  ('просто вокруг земля', 9.0),\n",
              "  ('однако всё описать', 9.0),\n",
              "  ('помощь вращаться ручка', 8.666666666666666),\n",
              "  ('помощь вращаться круг', 8.666666666666666),\n",
              "  ('середина ii век', 8.6),\n",
              "  ('начало i век', 8.6),\n",
              "  ('исторический свидетельство говорить', 8.5),\n",
              "  ('долгий время считаться', 8.4),\n",
              "  ('часть учёный предполагать', 8.333333333333334),\n",
              "  ('задний сторона устройство', 8.333333333333334),\n",
              "  ('чудо античный инженерный', 8.333333333333334),\n",
              "  ('многие учёный предполагать', 8.333333333333334),\n",
              "  ('свой род устройство', 8.333333333333334),\n",
              "  ('документ прошлое устройство', 8.333333333333334),\n",
              "  ('антикитерский механизм вряд', 8.2),\n",
              "  ('конец iii век', 8.1),\n",
              "  ('расчёт важный дата', 8.0),\n",
              "  ('время антикитерский механизм', 7.6),\n",
              "  ('спустя тысяча год', 7.5),\n",
              "  ('антикитерский механизм представлять', 7.2),\n",
              "  ('это устройство оказаться', 7.083333333333334),\n",
              "  ('также олимпийский игра', 6.5),\n",
              "  ('антикитерский механизм', 5.2),\n",
              "  ('iii век', 5.1),\n",
              "  ('— период время', 5.066666666666666),\n",
              "  ('каллиповый цикл', 5.0),\n",
              "  ('предстоящий солнечный', 4.666666666666666),\n",
              "  ('календарный период', 4.666666666666666),\n",
              "  ('луна вращаться', 4.666666666666666),\n",
              "  ('xi век', 4.6),\n",
              "  ('исторический источник', 4.5),\n",
              "  ('пифийский игра', 4.5),\n",
              "  ('— промежуток время', 4.4),\n",
              "  ('время цицерон', 4.4),\n",
              "  ('античный корабль', 4.333333333333334),\n",
              "  ('античный происхождение', 4.333333333333334),\n",
              "  ('который солнечный', 4.166666666666666),\n",
              "  ('наш эра', 4.0),\n",
              "  ('отслеживание дата', 4.0),\n",
              "  ('лунный затмение', 4.0),\n",
              "  ('уцелеть целиком', 4.0),\n",
              "  ('деревянный короб', 4.0),\n",
              "  ('бронзовый панель', 4.0),\n",
              "  ('прямой упоминание', 4.0),\n",
              "  ('сиракуза — именно', 4.0),\n",
              "  ('жить архимед', 4.0),\n",
              "  ('остров родос', 4.0),\n",
              "  ('анализировать дойти', 4.0),\n",
              "  ('стараться понять', 4.0),\n",
              "  ('положение луна', 4.0),\n",
              "  ('астрономический мысль', 4.0),\n",
              "  ('средневековый европа', 4.0),\n",
              "  ('деталь свидетельствовать', 4.0),\n",
              "  ('арабский мир', 4.0),\n",
              "  ('настолько сложный', 4.0),\n",
              "  ('это интересно', 3.75),\n",
              "  ('циферблат спереди', 3.6),\n",
              "  ('отображать циферблат', 3.6),\n",
              "  ('60-й год', 3.5),\n",
              "  ('движение луна', 3.5),\n",
              "  ('зодиакальный созвездие', 3.5),\n",
              "  ('весь циферблат', 2.9333333333333336),\n",
              "  ('устройство', 2.3333333333333335),\n",
              "  ('учёный', 2.3333333333333335),\n",
              "  ('представлять', 2.0),\n",
              "  ('также', 2.0),\n",
              "  ('дата', 2.0),\n",
              "  ('олимпийский', 2.0),\n",
              "  ('это', 1.75),\n",
              "  ('циферблат', 1.6),\n",
              "  ('1901 год', 1.5),\n",
              "  ('который', 1.5),\n",
              "  ('движение', 1.5),\n",
              "  ('2018 год', 1.5),\n",
              "  ('19 год', 1.5),\n",
              "  ('76 год', 1.5),\n",
              "  ('созвездие', 1.5),\n",
              "  ('весь', 1.3333333333333333),\n",
              "  ('обнаружить', 1.0),\n",
              "  ('антикитер', 1.0),\n",
              "  ('приблизительно', 1.0),\n",
              "  ('предназначить', 1.0),\n",
              "  ('фрагмент', 1.0),\n",
              "  ('предназначение', 1.0),\n",
              "  ('прокручивание', 1.0),\n",
              "  ('наука', 1.0),\n",
              "  ('поскольку', 1.0),\n",
              "  ('мочь', 1.0),\n",
              "  ('собранный', 1.0),\n",
              "  ('последователь', 1.0),\n",
              "  ('из-', 1.0),\n",
              "  ('надпись', 1.0),\n",
              "  ('образ', 1.0),\n",
              "  ('сцепить', 1.0),\n",
              "  ('шестерёнка', 1.0),\n",
              "  ('основываться', 1.0),\n",
              "  ('данные', 1.0),\n",
              "  ('получить', 1.0),\n",
              "  ('провести', 1.0),\n",
              "  ('солнце', 1.0),\n",
              "  ('меркурий', 1.0),\n",
              "  ('венера', 1.0),\n",
              "  ('марс', 1.0),\n",
              "  ('юпитер', 1.0),\n",
              "  ('сатурн', 1.0),\n",
              "  ('передний', 1.0),\n",
              "  ('≈ 6585 сутки', 1.0),\n",
              "  ('экселигмос', 1.0),\n",
              "  ('19 756 сутки', 1.0),\n",
              "  ('связанный', 1.0),\n",
              "  ('дать', 1.0),\n",
              "  ('синхронизировать', 1.0),\n",
              "  ('кроме', 1.0),\n",
              "  ('потонуть', 1.0),\n",
              "  ('польза', 1.0),\n",
              "  ('единственный', 1.0),\n",
              "  ('календарь', 1.0),\n",
              "  ('существовать', 1.0),\n",
              "  ('византия', 1.0),\n",
              "  ('ix', 1.0),\n",
              "  ('судить', 1.0),\n",
              "  ('70', 0)]]"
            ]
          },
          "metadata": {},
          "execution_count": 20
        }
      ]
    },
    {
      "cell_type": "markdown",
      "source": [
        "### TextRank"
      ],
      "metadata": {
        "id": "Hwq7EEbQ_rZh"
      },
      "id": "Hwq7EEbQ_rZh"
    },
    {
      "cell_type": "code",
      "source": [
        "key_words_TextRank = []\n",
        "for text in normalized_texts:\n",
        "    kw_list = keywords.keywords(text, language='russian', additional_stopwords=stop, scores=True)\n",
        "    key_words_TextRank.append(kw_list)"
      ],
      "metadata": {
        "id": "wPT9IG8B_tC-"
      },
      "id": "wPT9IG8B_tC-",
      "execution_count": 21,
      "outputs": []
    },
    {
      "cell_type": "code",
      "source": [
        "key_words_TextRank"
      ],
      "metadata": {
        "colab": {
          "base_uri": "https://localhost:8080/"
        },
        "id": "tFw4_4s3At2b",
        "outputId": "403e506e-3f6d-4442-9417-9215ae8b429b"
      },
      "id": "tFw4_4s3At2b",
      "execution_count": 22,
      "outputs": [
        {
          "output_type": "execute_result",
          "data": {
            "text/plain": [
              "[[('который', 0.28715353780680797),\n",
              "  ('внимание', 0.24431789597625955),\n",
              "  ('человек', 0.2138406081568353),\n",
              "  ('способный', 0.18142269623376042),\n",
              "  ('поток информация', 0.151842742209668),\n",
              "  ('шум', 0.14473132589623636),\n",
              "  ('обстановка способность', 0.13865658496901062),\n",
              "  ('ухо', 0.13086097622112675),\n",
              "  ('уха', 0.13086097622112675),\n",
              "  ('сигнал', 0.11952179609754597),\n",
              "  ('механизм', 0.11889071372317525),\n",
              "  ('определять', 0.11797153292044313),\n",
              "  ('определяться', 0.11797153292044313),\n",
              "  ('система мочь', 0.11174934523542433),\n",
              "  ('распознавать', 0.10308362376812838),\n",
              "  ('распознаваться', 0.10308362376812838),\n",
              "  ('предложить', 0.09779786185630669),\n",
              "  ('источник звук', 0.09760644069198077),\n",
              "  ('начинать', 0.09723761944658492),\n",
              "  ('канал', 0.0943518586078879),\n",
              "  ('фильтр', 0.09308537266770685),\n",
              "  ('основный слуховой', 0.09091348368416723),\n",
              "  ('шумовой', 0.08943625233072125),\n",
              "  ('свой исследование', 0.08770036404931611),\n",
              "  ('разный стимул', 0.08691311045294514),\n",
              "  ('трудный', 0.085997787903882),\n",
              "  ('трудно', 0.085997787903882),\n",
              "  ('уровень', 0.0852058368256579),\n",
              "  ('это', 0.08338513917920176),\n",
              "  ('обработка речь', 0.08146914044477634),\n",
              "  ('влиять', 0.07807696531822139),\n",
              "  ('сообщение', 0.0769245781096247),\n",
              "  ('бинауральный', 0.07608159527579025),\n",
              "  ('бинауральность', 0.07608159527579025),\n",
              "  ('теменной', 0.07469970161012922),\n",
              "  ('трейсман', 0.0744511986790769),\n",
              "  ('искусственный', 0.07392689629203401),\n",
              "  ('существование пороговый', 0.0727898939777546),\n",
              "  ('важность', 0.07175442863288654),\n",
              "  ('важный', 0.07128121677330053),\n",
              "  ('сфокусировать', 0.06701606476625065),\n",
              "  ('коктейльный вечеринка', 0.06691777706499463),\n",
              "  ('имя', 0.06641097331671907),\n",
              "  ('например', 0.0661402788093071),\n",
              "  ('участник', 0.06366677304021207),\n",
              "  ('голос', 0.06291550067603756),\n",
              "  ('поздний', 0.062875086971615),\n",
              "  ('кроме', 0.060768717566103955),\n",
              "  ('лобно', 0.05999929411562825),\n",
              "  ('лобный', 0.05999929411562825)],\n",
              " [('который', 0.4653120792897018),\n",
              "  ('звук', 0.2911422384908732),\n",
              "  ('слуховой аппарат', 0.27326556160407917),\n",
              "  ('это', 0.15225748121585103),\n",
              "  ('слышать', 0.12871788628035505),\n",
              "  ('устройство', 0.1261472103503899),\n",
              "  ('появиться', 0.11657598976710924),\n",
              "  ('человек', 0.11053284981835716),\n",
              "  ('болевой', 0.10757075319780726),\n",
              "  ('усилитель', 0.1046970705725182),\n",
              "  ('разный', 0.0958497467967543),\n",
              "  ('первый', 0.09582671108789513),\n",
              "  ('часто', 0.09457624565753311),\n",
              "  ('сигнал', 0.0861163588806865),\n",
              "  ('часть проект', 0.08197652141108924),\n",
              "  ('всё современный', 0.08102199112866867),\n",
              "  ('микрофон', 0.08073774289300384),\n",
              "  ('усилить', 0.08065162479968298),\n",
              "  ('потеря слух', 0.07770288750858922),\n",
              "  ('мочь', 0.07504643559441988),\n",
              "  ('начало', 0.07357435437737846),\n",
              "  ('начаться', 0.07357435437737846),\n",
              "  ('бывать', 0.07352954046585977),\n",
              "  ('карман', 0.07328425975879603),\n",
              "  ('карманный', 0.07328425975879603),\n",
              "  ('развитие', 0.07272164179471295),\n",
              "  ('размер', 0.07180451383361323),\n",
              "  ('менять', 0.06897612854647533),\n",
              "  ('меняться', 0.06897612854647533),\n",
              "  ('усиливать', 0.06869044017853192),\n",
              "  ('поезд', 0.06656314770108349),\n",
              "  ('внешний', 0.06656314770108206),\n",
              "  ('весь', 0.06510194597499487),\n",
              "  ('создать', 0.062096531572634894),\n",
              "  ('больший', 0.061843182779493036),\n",
              "  ('сначала', 0.06154570711652247),\n",
              "  ('время', 0.061394553008577185),\n",
              "  ('телефон', 0.059210493309150354),\n",
              "  ('преобразовать', 0.05921049330915031),\n",
              "  ('диапазон', 0.05841253631230445),\n",
              "  ('именно', 0.05821521955919074),\n",
              "  ('хороший', 0.058071547601520584),\n",
              "  ('век', 0.05705285279160084),\n",
              "  ('раструб', 0.05587343648807565),\n",
              "  ('ушной раковина', 0.05404045426755404),\n",
              "  ('специальный', 0.05321750140444957),\n",
              "  ('воспринимать', 0.05225409759439249),\n",
              "  ('рог', 0.0501521942273302),\n",
              "  ('шум', 0.04916413728975008),\n",
              "  ('история', 0.04834942674287718)],\n",
              " [('мода', 0.2306102297011504),\n",
              "  ('одежда', 0.2280234337456535),\n",
              "  ('модно', 0.22745998181176405),\n",
              "  ('который', 0.18385536848293466),\n",
              "  ('это', 0.15873821993990078),\n",
              "  ('модный пространство', 0.15675593824702716),\n",
              "  ('новый', 0.13646026773103875),\n",
              "  ('вещь', 0.1330804775823705),\n",
              "  ('культурный', 0.12152488117444961),\n",
              "  ('дом стать', 0.10820260614575017),\n",
              "  ('тренд', 0.10483054865202909),\n",
              "  ('всё', 0.10471264891879913),\n",
              "  ('появляться', 0.10092651761270183),\n",
              "  ('многие', 0.09638150787215803),\n",
              "  ('комфорт', 0.09361932837406584),\n",
              "  ('сегодня', 0.09209719877343764),\n",
              "  ('уродливый', 0.08895671679737255),\n",
              "  ('повседневность', 0.08566474183932647),\n",
              "  ('повседневный', 0.08566474183932647),\n",
              "  ('повестка', 0.08560828275001886),\n",
              "  ('мужчина', 0.0841840877647991),\n",
              "  ('тенденция последний', 0.0835393196085135),\n",
              "  ('красота', 0.08025742727877425),\n",
              "  ('ещё', 0.07777003671464774),\n",
              "  ('человек доказывать свой', 0.07633454388997685),\n",
              "  ('спортивный стиль', 0.07466728950096964),\n",
              "  ('казаться', 0.07431254075487584),\n",
              "  ('й год', 0.07281902214734547),\n",
              "  ('требование', 0.07260974664187941),\n",
              "  ('наш представление', 0.0719235567597195),\n",
              "  ('силуэт', 0.07031864956304039),\n",
              "  ('процесс', 0.06860513033324825),\n",
              "  ('balenciaga', 0.06796927473966356),\n",
              "  ('начинать', 0.06736717124607675),\n",
              "  ('начинаться', 0.06736717124607675),\n",
              "  ('язык', 0.06736717124607573),\n",
              "  ('хороший', 0.06736717124607568),\n",
              "  ('обозначение', 0.06736717124607532),\n",
              "  ('людмила', 0.06736717124607464),\n",
              "  ('разный', 0.06053382419124578),\n",
              "  ('разрушить табу', 0.059925703337152525),\n",
              "  ('сен', 0.05992570333715241),\n",
              "  ('неожиданный', 0.059610452327769285),\n",
              "  ('информация', 0.05803763399290162),\n",
              "  ('мастер', 0.05676307947586026),\n",
              "  ('принта', 0.05676307947586008),\n",
              "  ('повсеместный', 0.05676307947586001),\n",
              "  ('образ войти элемент', 0.0562328748873494),\n",
              "  ('помогать избежать лишний', 0.056232874887349356),\n",
              "  ('сочетать', 0.056125782988151275),\n",
              "  ('нью лука', 0.05596777259309404),\n",
              "  ('нормкор', 0.05562317827624599),\n",
              "  ('мем', 0.05517246571032773),\n",
              "  ('баленсиаг', 0.053966905314512294),\n",
              "  ('часть', 0.053894725820190885),\n",
              "  ('наподобие', 0.05340040433305484),\n",
              "  ('сознательный', 0.05321545225369427)],\n",
              " [('ребёнок', 0.2770947294578837),\n",
              "  ('зефирный эксперимент', 0.20932153592137825),\n",
              "  ('награда', 0.19113347736131023),\n",
              "  ('год', 0.17686549387496936),\n",
              "  ('который провести', 0.15818770860001177),\n",
              "  ('результат', 0.15747344454701723),\n",
              "  ('это', 0.14931566536374347),\n",
              "  ('отвлекать фактор', 0.13082582385889868),\n",
              "  ('больший', 0.12652992545562441),\n",
              "  ('большой', 0.12652992545562441),\n",
              "  ('время ожидание', 0.12572093400095957),\n",
              "  ('карандаш', 0.11761150179046935),\n",
              "  ('исследование', 0.09987318703955686),\n",
              "  ('долгий ждать', 0.09731854136471343),\n",
              "  ('хороший', 0.09407900179170489),\n",
              "  ('уровень', 0.09306661760258075),\n",
              "  ('социальный', 0.08968854121369069),\n",
              "  ('изначальный', 0.08818288654474457),\n",
              "  ('изначально учёный', 0.08473234181783995),\n",
              "  ('самоконтроль', 0.0845759050620703),\n",
              "  ('преодолеть', 0.08427552513180012),\n",
              "  ('способность', 0.08388170901575237),\n",
              "  ('способный', 0.08388170901575237),\n",
              "  ('взрослый возраст', 0.08264380677433494),\n",
              "  ('высокий', 0.07914387545554762),\n",
              "  ('исследователь', 0.07853518363031264),\n",
              "  ('семья частый', 0.0777652308070518),\n",
              "  ('восприятие', 0.0756541683616482),\n",
              "  ('наличие', 0.07470684414455164),\n",
              "  ('переставать', 0.071553043616226),\n",
              "  ('поровну', 0.07155304361622597),\n",
              "  ('образ', 0.07155304361622576),\n",
              "  ('плохо', 0.07155304361622561),\n",
              "  ('дожидаться', 0.07155304361622532),\n",
              "  ('критиковать', 0.07036307977645852),\n",
              "  ('соблазн', 0.06973995793128103),\n",
              "  ('долго', 0.0689520715810488),\n",
              "  ('ещё', 0.06839655259390899),\n",
              "  ('печение', 0.06782641843406718),\n",
              "  ('отвлекаться', 0.06777160135359092),\n",
              "  ('й', 0.06731100305377877),\n",
              "  ('счёт', 0.06490177153166755),\n",
              "  ('часто', 0.0643516346930733),\n",
              "  ('взять угощение', 0.06390927621615647),\n",
              "  ('событие день', 0.06364919864237362),\n",
              "  ('напевать песенка', 0.06364919864237314),\n",
              "  ('бо', 0.06218585531114971)],\n",
              " [('пиво', 0.4926630000685146),\n",
              "  ('сусло', 0.23477030178705),\n",
              "  ('хмель', 0.16830677414873493),\n",
              "  ('хмелить', 0.16830677414873493),\n",
              "  ('это', 0.16487965653575762),\n",
              "  ('затем', 0.16115096694333775),\n",
              "  ('дрожжи', 0.1566430246922969),\n",
              "  ('соединение', 0.15152719339724308),\n",
              "  ('мочь', 0.1388117638278101),\n",
              "  ('добавлять', 0.13456544277733754),\n",
              "  ('содержаться', 0.1226580587131604),\n",
              "  ('содержать', 0.1226580587131604),\n",
              "  ('кондиционирование', 0.11172967546907141),\n",
              "  ('солод', 0.11071149303778574),\n",
              "  ('несколько', 0.10571619407038767),\n",
              "  ('процесс', 0.10537694456511144),\n",
              "  ('приготовление', 0.10509507562170363),\n",
              "  ('получить', 0.10194124197042108),\n",
              "  ('называться', 0.10022263649491589),\n",
              "  ('называть', 0.10022263649491589),\n",
              "  ('алкогольный', 0.10013176914314507),\n",
              "  ('смесь', 0.09949489896060688),\n",
              "  ('грамм', 0.09892627096478752),\n",
              "  ('пивной', 0.09231286328105388),\n",
              "  ('брожение', 0.08675923079395581),\n",
              "  ('способный катализировать расщепление', 0.08358221285420873),\n",
              "  ('ингредиент', 0.08180699214129043),\n",
              "  ('нужный', 0.0789861760257319),\n",
              "  ('нужно', 0.0789861760257319)],\n",
              " [('дата', 0.2722887414706117),\n",
              "  ('дать', 0.2722887414706117),\n",
              "  ('устройство', 0.24176513134343167),\n",
              "  ('антикитерский механизм древний', 0.1865306931527186),\n",
              "  ('год', 0.1768042789806179),\n",
              "  ('это', 0.1595742334020839),\n",
              "  ('лунный', 0.15208735991971722),\n",
              "  ('луна', 0.15208735991971722),\n",
              "  ('лунно', 0.15208735991971722),\n",
              "  ('модель', 0.14282590444484186),\n",
              "  ('сложный', 0.12410609911803995),\n",
              "  ('сложно', 0.12410609911803995),\n",
              "  ('всё', 0.12243015163996031),\n",
              "  ('время', 0.12111627807816881),\n",
              "  ('солнечный', 0.12089538799697269),\n",
              "  ('циферблат', 0.11809922267714501),\n",
              "  ('iii', 0.1069939155205387),\n",
              "  ('i', 0.1069939155205387),\n",
              "  ('период', 0.10408728479970185),\n",
              "  ('задний', 0.09741751276765986),\n",
              "  ('планета', 0.096974843323211),\n",
              "  ('положение астрономический', 0.09654958999377364),\n",
              "  ('сиракуза', 0.09639789235333546),\n",
              "  ('деталь', 0.09420631049141111),\n",
              "  ('известный', 0.09208641196853817),\n",
              "  ('ii век', 0.08934769052057692),\n",
              "  ('весь', 0.08906693502350917),\n",
              "  ('учёный', 0.08765114258106291),\n",
              "  ('происхождение', 0.0859310295292418),\n",
              "  ('вращаться', 0.08496508158260793),\n",
              "  ('античный корабль', 0.08487056906123472),\n",
              "  ('цикл', 0.08328158446468621),\n",
              "  ('отображать', 0.08173736516833914),\n",
              "  ('олимпийский', 0.08085646127392702),\n",
              "  ('вокруг', 0.07997590770248238),\n",
              "  ('делать', 0.0786868830685479),\n",
              "  ('подтвердиться', 0.07868688306854768),\n",
              "  ('остров', 0.0784309360461519),\n",
              "  ('механический', 0.07375445663238697),\n",
              "  ('исторический', 0.07364930692630348),\n",
              "  ('шестерной', 0.0734508690356333),\n",
              "  ('важный', 0.07265378567422977),\n",
              "  ('важно', 0.07265378567422977),\n",
              "  ('свой', 0.0692903805550061),\n",
              "  ('сутки', 0.06910872637110146),\n",
              "  ('рентгеновский', 0.06839248944683003),\n",
              "  ('панель', 0.06811484114953512),\n",
              "  ('система', 0.06802474320136312),\n",
              "  ('римский', 0.06617594858101727),\n",
              "  ('мера', 0.06412924821377666)]]"
            ]
          },
          "metadata": {},
          "execution_count": 22
        }
      ]
    },
    {
      "cell_type": "markdown",
      "source": [
        "### KeyBERT"
      ],
      "metadata": {
        "id": "lXoBbYmnPzJt"
      },
      "id": "lXoBbYmnPzJt"
    },
    {
      "cell_type": "code",
      "source": [
        "kw_model = KeyBERT('clips/mfaq')"
      ],
      "metadata": {
        "colab": {
          "base_uri": "https://localhost:8080/"
        },
        "id": "i3uYdbgOP2Ng",
        "outputId": "a4f13c95-0ce2-4739-bda9-1f960ae38839"
      },
      "id": "i3uYdbgOP2Ng",
      "execution_count": 23,
      "outputs": [
        {
          "output_type": "stream",
          "name": "stderr",
          "text": [
            "/usr/local/lib/python3.7/dist-packages/transformers/configuration_utils.py:370: UserWarning: Passing `gradient_checkpointing` to a config initialization is deprecated and will be removed in v5 Transformers. Using `model.gradient_checkpointing_enable()` instead, or if you are using the `Trainer` API, pass `gradient_checkpointing=True` in your `TrainingArguments`.\n",
            "  \"Passing `gradient_checkpointing` to a config initialization is deprecated and will be removed in v5 \"\n"
          ]
        }
      ]
    },
    {
      "cell_type": "code",
      "source": [
        "key_words_keyBERT = []\n",
        "for text in normalized_texts:\n",
        "    kw_list = kw_model.extract_keywords(text, keyphrase_ngram_range=(1, 3), stop_words=stop, top_n = 10)\n",
        "    key_words_keyBERT.append(kw_list)"
      ],
      "metadata": {
        "id": "gWJJ-wySmqmr"
      },
      "id": "gWJJ-wySmqmr",
      "execution_count": 24,
      "outputs": []
    },
    {
      "cell_type": "code",
      "source": [
        "key_words_keyBERT"
      ],
      "metadata": {
        "colab": {
          "base_uri": "https://localhost:8080/"
        },
        "id": "ID3ru_zuouV2",
        "outputId": "c16a9f45-55f6-4e68-db15-7621a6d827ea"
      },
      "id": "ID3ru_zuouV2",
      "execution_count": 25,
      "outputs": [
        {
          "output_type": "execute_result",
          "data": {
            "text/plain": [
              "[[('анализировать звуковой', 0.9763),\n",
              "  ('слышать', 0.9762),\n",
              "  ('вслух слышать определённый', 0.9761),\n",
              "  ('анализировать звуковой информация', 0.9754),\n",
              "  ('узнавать голос', 0.975),\n",
              "  ('звуковой информация определять', 0.9748),\n",
              "  ('голова знакомый звук', 0.9747),\n",
              "  ('звук шум влиять', 0.9745),\n",
              "  ('распознавать слуховой', 0.9743),\n",
              "  ('шумовой стимул достигать', 0.9742)],\n",
              " [('устроить слуховой аппарат', 0.9781),\n",
              "  ('слуховой аппарат устроить', 0.9764),\n",
              "  ('устройство слуховой аппарат', 0.9751),\n",
              "  ('устроить слуховой', 0.9747),\n",
              "  ('сделать слуховой аппарат', 0.9747),\n",
              "  ('создать электромеханический слуховой', 0.9743),\n",
              "  ('современный слуховой аппарат', 0.9742),\n",
              "  ('устройство слуховой', 0.9734),\n",
              "  ('слуховой аппарат это', 0.973),\n",
              "  ('аппарат устроить принцип', 0.9728)],\n",
              " [('сегодняшний сознательный модник', 0.9752),\n",
              "  ('fashion уродливый мода', 0.9747),\n",
              "  ('мода понятие красота', 0.9743),\n",
              "  ('красота модный идеал', 0.9743),\n",
              "  ('культуролог людмила', 0.9738),\n",
              "  ('модный идеал жить', 0.9734),\n",
              "  ('культуролог людмила алябьева', 0.9733),\n",
              "  ('красота модный', 0.9732),\n",
              "  ('представление красота модный', 0.9732),\n",
              "  ('уродливый мода', 0.973)],\n",
              " [('самоконтроль зефирный эксперимент', 0.9698),\n",
              "  ('зефирный эксперимент среди', 0.9683),\n",
              "  ('зефирный эксперимент', 0.9672),\n",
              "  ('зефирный эксперимент мишель', 0.9648),\n",
              "  ('результат зефирный эксперимент', 0.9643),\n",
              "  ('зефирный эксперимент маленький', 0.9643),\n",
              "  ('эксперимент просто', 0.9643),\n",
              "  ('непосредственно зефирный эксперимент', 0.9643),\n",
              "  ('стэнфордский зефирный эксперимент', 0.9641),\n",
              "  ('правда самоконтроль', 0.9638)],\n",
              " [('процесс приготовление пиво', 0.9759),\n",
              "  ('приготовление пиво', 0.9732),\n",
              "  ('приготовление пиво хмель', 0.9726),\n",
              "  ('состоять пиво', 0.9725),\n",
              "  ('пиво нужно весь', 0.9711),\n",
              "  ('состоять пиво производить', 0.9703),\n",
              "  ('пиво это', 0.9699),\n",
              "  ('пиво нужно', 0.9695),\n",
              "  ('пивоварение многоступенчатый процесс', 0.9693),\n",
              "  ('производство пиво нужный', 0.9693)],\n",
              " [('антикитерский механизм древний', 0.9721),\n",
              "  ('древний аналоговый компьютер', 0.9718),\n",
              "  ('создание антикитерский механизм', 0.9715),\n",
              "  ('антикитерский механизм загадка', 0.9711),\n",
              "  ('антикитерский механизм это', 0.9711),\n",
              "  ('механизм древний аналоговый', 0.9709),\n",
              "  ('антикитерский механизм представлять', 0.9704),\n",
              "  ('считать антикитерский механизм', 0.9704),\n",
              "  ('основа антикитерский механизм', 0.9698),\n",
              "  ('механизм антикитерский механизм', 0.9696)]]"
            ]
          },
          "metadata": {},
          "execution_count": 25
        }
      ]
    },
    {
      "cell_type": "markdown",
      "source": [
        "## Морфологические шаблоны и фильтрация ключевых слов\n",
        "\n",
        "Были выбраны несколько морфологических шаблонов для ключевых слов (шаблонам соответствует подавляющее большинство ключевых слов из эталона); в скобках указаны соответствующие им ключевые слова из эталона: \n",
        "- Noun (\"психология\"),\n",
        "- Adj + Noun (\"уродливые вещи\"), \n",
        "- Noun + Noun (\"восприятие времени\"),\n",
        "- Adj + Adj + Noun (\"стэнфордский зефирный эксперимент\"),\n",
        "- Adv + Adj + Noun (\"субъективно важные сообщения\")."
      ],
      "metadata": {
        "id": "YxJq0tQGqO-O"
      },
      "id": "YxJq0tQGqO-O"
    },
    {
      "cell_type": "code",
      "source": [
        "def POS_tagging(key_words):\n",
        "    key_words_POS = []\n",
        "    for item in key_words:\n",
        "        new_item = []\n",
        "        for i in item:\n",
        "            new_tokens = []\n",
        "            tokens = simple_word_tokenize(i[0])\n",
        "            for token in tokens:\n",
        "                p = m.parse(token)[0]\n",
        "                POS_tag = p.tag.POS\n",
        "                p_POS_tag = (token + '_' + str(POS_tag).strip())\n",
        "                new_tokens.append(p_POS_tag)\n",
        "            new_item.append(new_tokens)\n",
        "        key_words_POS.append(new_item)\n",
        "\n",
        "    return key_words_POS"
      ],
      "metadata": {
        "id": "YIAFSWQj_wFv"
      },
      "id": "YIAFSWQj_wFv",
      "execution_count": 26,
      "outputs": []
    },
    {
      "cell_type": "code",
      "source": [
        "key_words_RAKE_POS = POS_tagging(key_words_RAKE)\n",
        "key_words_TextRank_POS = POS_tagging(key_words_TextRank)\n",
        "key_words_keyBERT_POS = POS_tagging(key_words_keyBERT)"
      ],
      "metadata": {
        "id": "-JfLrxVTAIwq"
      },
      "id": "-JfLrxVTAIwq",
      "execution_count": 27,
      "outputs": []
    },
    {
      "cell_type": "markdown",
      "source": [
        "После того, как ключевые слова размечены по частям речи, можно оставить среди них только те, что соответствуют шаблонам:"
      ],
      "metadata": {
        "id": "tfP4fLfgDlxQ"
      },
      "id": "tfP4fLfgDlxQ"
    },
    {
      "cell_type": "code",
      "source": [
        "def filter_key_words_POS(key_words):\n",
        "    filtered_items = []\n",
        "    for item in key_words:\n",
        "        for i in item:\n",
        "            if len(i) == 1 and \"_NOUN\" in str(i):\n",
        "                filtered_items.append(i)\n",
        "            if len(i) == 2 and \"_ADJF\" in str(i[0]) and \"_NOUN\" in str(i[1]):\n",
        "                filtered_items.append((i[0], i[1]))\n",
        "            if len(i) == 2 and \"_NOUN\" in str(i[0]) and \"_NOUN\" in str(i[1]):\n",
        "                filtered_items.append((i[0], i[1]))\n",
        "            if len(i) == 3 and \"_ADJF\" in str(i[0]) and \"_ADJF\" in str(i[1]) and \"_NOUN\" in str(i[2]):\n",
        "                filtered_items.append((i[0], i[1], i[2]))\n",
        "            if len(i) == 3 and \"_ADV\" in str(i[0]) and \"_ADJF\" in str(i[1]) and \"_NOUN\" in str(i[2]):\n",
        "                filtered_items.append((i[0], i[1], i[2]))\n",
        "    return filtered_items"
      ],
      "metadata": {
        "id": "Hy9DBjTPIqBZ"
      },
      "id": "Hy9DBjTPIqBZ",
      "execution_count": 28,
      "outputs": []
    },
    {
      "cell_type": "code",
      "source": [
        "key_words_RAKE_filtered = filter_key_words_POS(key_words_RAKE_POS)\n",
        "key_words_TextRank_filtered = filter_key_words_POS(key_words_TextRank_POS)\n",
        "key_words_keyBERT_filtered = filter_key_words_POS(key_words_keyBERT_POS)"
      ],
      "metadata": {
        "id": "k-W6S-9BI6cM"
      },
      "id": "k-W6S-9BI6cM",
      "execution_count": 29,
      "outputs": []
    },
    {
      "cell_type": "markdown",
      "source": [
        "Аналогичные фильтры нужно применить и к эталону (в нём есть ключевые слова, не соответствующие выделенным морфологическим шаблонам):"
      ],
      "metadata": {
        "id": "jrf1AmPULJdY"
      },
      "id": "jrf1AmPULJdY"
    },
    {
      "cell_type": "code",
      "source": [
        "reference_POS = []\n",
        "for item in reference:\n",
        "    new_item = []\n",
        "    for i in item:\n",
        "        new_tokens = []\n",
        "        tokens = simple_word_tokenize(i)\n",
        "        for token in tokens:\n",
        "            lemma = m.parse(token)[0].normal_form  # нужно лемматизировать ключевые слова\n",
        "            p = m.parse(token)[0]\n",
        "            POS_tag = p.tag.POS\n",
        "            p_POS_tag = (lemma + '_' + str(POS_tag).strip())\n",
        "            new_tokens.append(p_POS_tag)\n",
        "        new_item.append(new_tokens)\n",
        "    reference_POS.append(new_item)"
      ],
      "metadata": {
        "id": "4dRTF_3vMlD8"
      },
      "id": "4dRTF_3vMlD8",
      "execution_count": 30,
      "outputs": []
    },
    {
      "cell_type": "code",
      "source": [
        "reference_filtered = []\n",
        "for item in reference_POS:\n",
        "    for i in item:\n",
        "        if len(i) == 1 and \"_NOUN\" in str(i):\n",
        "            reference_filtered.append(i)\n",
        "        if len(i) == 2 and \"_ADJF\" in str(i[0]) and \"_NOUN\" in str(i[1]):\n",
        "            reference_filtered.append((i[0], i[1]))\n",
        "        if len(i) == 2 and \"_NOUN\" in str(i[0]) and \"_NOUN\" in str(i[1]):\n",
        "            reference_filtered.append((i[0], i[1]))\n",
        "        if len(i) == 3 and \"_ADJF\" in str(i[0]) and \"_ADJF\" in str(i[1]) and \"_NOUN\" in str(i[2]):\n",
        "            reference_filtered.append((i[0], i[1], i[2]))\n",
        "        if len(i) == 3 and \"_ADV\" in str(i[0]) and \"_ADJF\" in str(i[1]) and \"_NOUN\" in str(i[2]):\n",
        "            reference_filtered.append((i[0], i[1], i[2]))"
      ],
      "metadata": {
        "id": "ktRirEx1Onfq"
      },
      "id": "ktRirEx1Onfq",
      "execution_count": 31,
      "outputs": []
    },
    {
      "cell_type": "markdown",
      "source": [
        "## Оценка ключевых слов"
      ],
      "metadata": {
        "id": "N6QGmZItSuMK"
      },
      "id": "N6QGmZItSuMK"
    },
    {
      "cell_type": "markdown",
      "source": [
        "### Без шаблонов\n",
        "\n",
        "Прежде всего нужно лемматизировать эталон."
      ],
      "metadata": {
        "id": "BM92HTW_S1II"
      },
      "id": "BM92HTW_S1II"
    },
    {
      "cell_type": "code",
      "source": [
        "reference_normalized = []\n",
        "for item in reference:\n",
        "    new_item = []\n",
        "    for i in item:\n",
        "        new_tokens = []\n",
        "        tokens = simple_word_tokenize(i)\n",
        "        for token in tokens:\n",
        "            lemma = m.parse(token)[0].normal_form\n",
        "            new_tokens.append(lemma)\n",
        "        new_item.append(new_tokens)\n",
        "    reference_normalized.append(new_item)"
      ],
      "metadata": {
        "id": "Q1Ya7tP9Sxz6"
      },
      "id": "Q1Ya7tP9Sxz6",
      "execution_count": 32,
      "outputs": []
    },
    {
      "cell_type": "markdown",
      "source": [
        "Ключевые слова нужно привести к такому же формату, в каком представлен эталон:"
      ],
      "metadata": {
        "id": "Ui2yzD4zUslB"
      },
      "id": "Ui2yzD4zUslB"
    },
    {
      "cell_type": "code",
      "source": [
        "def format_key_words(key_words):\n",
        "    key_words_new = []\n",
        "    for item in key_words:\n",
        "        new_item = []\n",
        "        for i in item:\n",
        "            new_tokens = []\n",
        "            tokens = simple_word_tokenize(i[0])\n",
        "            for token in tokens:\n",
        "                new_tokens.append(token)\n",
        "            new_item.append(new_tokens)\n",
        "        key_words_new.append(new_item)\n",
        "    \n",
        "    return key_words_new"
      ],
      "metadata": {
        "id": "8lWaoXUQVso0"
      },
      "id": "8lWaoXUQVso0",
      "execution_count": 33,
      "outputs": []
    },
    {
      "cell_type": "code",
      "source": [
        "key_words_RAKE_formatted = format_key_words(key_words_RAKE)\n",
        "key_words_TextRank_formatted = format_key_words(key_words_TextRank)\n",
        "key_words_keyBERT_formatted = format_key_words(key_words_keyBERT)"
      ],
      "metadata": {
        "id": "J1080T8xV7_Z"
      },
      "id": "J1080T8xV7_Z",
      "execution_count": 34,
      "outputs": []
    },
    {
      "cell_type": "markdown",
      "source": [
        "В очередной раз форматирую данные, чтобы можно было удобнее считать их пересечения:"
      ],
      "metadata": {
        "id": "DhUURmg3gUjk"
      },
      "id": "DhUURmg3gUjk"
    },
    {
      "cell_type": "code",
      "source": [
        "def format_for_metrics(key_words):\n",
        "    new_key_words = []\n",
        "    for l in key_words:\n",
        "        for item in l:\n",
        "            new_item = ' '.join(item)\n",
        "            new_key_words.append(new_item)\n",
        "\n",
        "    return new_key_words"
      ],
      "metadata": {
        "id": "wRSrraI0gaSs"
      },
      "id": "wRSrraI0gaSs",
      "execution_count": 35,
      "outputs": []
    },
    {
      "cell_type": "code",
      "source": [
        "key_words_RAKE_for_metrics = format_for_metrics(key_words_RAKE_formatted)\n",
        "key_words_TextRank_for_metrics = format_for_metrics(key_words_TextRank_formatted)\n",
        "key_words_keyBERT_for_metrics = format_for_metrics(key_words_keyBERT_formatted)\n",
        "reference_for_metrics = format_for_metrics(reference_normalized)"
      ],
      "metadata": {
        "id": "9uFHg7F0gzCD"
      },
      "id": "9uFHg7F0gzCD",
      "execution_count": 36,
      "outputs": []
    },
    {
      "cell_type": "code",
      "source": [
        "def compute_metrics(reference, key_words):\n",
        "    TP = 0\n",
        "    FN = 0\n",
        "    FP = 0\n",
        "    reference_set = set(reference)\n",
        "    key_words_set = set(key_words)\n",
        "    intersections = reference_set.intersection(key_words_set)\n",
        "    TP += len(intersections)\n",
        "    in_reference_but_not_in_keywords = reference_set.difference(key_words_set)\n",
        "    FN += len(in_reference_but_not_in_keywords)\n",
        "    in_keywords_but_not_in_reference = key_words_set.difference(reference_set)\n",
        "    FP += len(in_keywords_but_not_in_reference)\n",
        "    precision = TP / (TP + FP)\n",
        "    recall = TP / (TP + FN)\n",
        "    if precision + recall > 0:\n",
        "        f1 = (2 * precision * recall) / (precision + recall)\n",
        "        print('F-мера', f1)\n",
        "    else:\n",
        "        print('Нельзя посчитать F-меру')\n",
        "    print('Точность:', precision)\n",
        "    print('Полнота:', recall)"
      ],
      "metadata": {
        "id": "5sFW10qIwCzm"
      },
      "id": "5sFW10qIwCzm",
      "execution_count": 37,
      "outputs": []
    },
    {
      "cell_type": "code",
      "source": [
        "print('Для ключевых слов, полученных с помощью RAKE: \\n')\n",
        "compute_metrics(reference_for_metrics, key_words_RAKE_for_metrics)\n",
        "\n",
        "print('\\n Для ключевых слов, полученных с помощью TextRank: \\n')\n",
        "compute_metrics(reference_for_metrics, key_words_TextRank_for_metrics)\n",
        "\n",
        "print('\\n Для ключевых слов, полученных с помощью keyBERT: \\n')\n",
        "compute_metrics(reference_for_metrics, key_words_keyBERT_for_metrics)"
      ],
      "metadata": {
        "colab": {
          "base_uri": "https://localhost:8080/"
        },
        "id": "Nr2UbCAQwSIV",
        "outputId": "2fd5362a-94ec-4004-ee62-bc4a21885fdd"
      },
      "id": "Nr2UbCAQwSIV",
      "execution_count": 38,
      "outputs": [
        {
          "output_type": "stream",
          "name": "stdout",
          "text": [
            "Для ключевых слов, полученных с помощью RAKE: \n",
            "\n",
            "F-мера 0.08429118773946362\n",
            "Точность: 0.05945945945945946\n",
            "Полнота: 0.14473684210526316\n",
            "\n",
            " Для ключевых слов, полученных с помощью TextRank: \n",
            "\n",
            "F-мера 0.1566265060240964\n",
            "Точность: 0.1015625\n",
            "Полнота: 0.34210526315789475\n",
            "\n",
            " Для ключевых слов, полученных с помощью keyBERT: \n",
            "\n",
            "F-мера 0.029411764705882353\n",
            "Точность: 0.03333333333333333\n",
            "Полнота: 0.02631578947368421\n"
          ]
        }
      ]
    },
    {
      "cell_type": "markdown",
      "source": [
        "### С учётом шаблонов"
      ],
      "metadata": {
        "id": "EH_bUFTIy-TT"
      },
      "id": "EH_bUFTIy-TT"
    },
    {
      "cell_type": "code",
      "source": [
        "def format_for_metrics_POS(key_words):\n",
        "    new_key_words = []\n",
        "    for item in key_words:\n",
        "        new_item = ' '.join(item)\n",
        "        new_key_words.append(new_item)\n",
        "\n",
        "    return new_key_words"
      ],
      "metadata": {
        "id": "eejgyQOo45d7"
      },
      "id": "eejgyQOo45d7",
      "execution_count": 39,
      "outputs": []
    },
    {
      "cell_type": "code",
      "source": [
        "key_words_RAKE_for_metrics_POS = format_for_metrics_POS(key_words_RAKE_filtered)\n",
        "key_words_TextRank_for_metrics_POS = format_for_metrics_POS(key_words_TextRank_filtered)\n",
        "key_words_keyBERT_for_metrics_POS = format_for_metrics_POS(key_words_keyBERT_filtered)\n",
        "reference_for_metrics_POS = format_for_metrics_POS(reference_filtered)"
      ],
      "metadata": {
        "id": "S5SUyPEX6LHB"
      },
      "id": "S5SUyPEX6LHB",
      "execution_count": 40,
      "outputs": []
    },
    {
      "cell_type": "code",
      "source": [
        "print('Для ключевых слов с шаблонами, полученных с помощью RAKE: \\n')\n",
        "compute_metrics(reference_for_metrics_POS, key_words_RAKE_for_metrics_POS)\n",
        "\n",
        "print('\\n Для ключевых слов с шаблонами, полученных с помощью TextRank: \\n')\n",
        "compute_metrics(reference_for_metrics_POS, key_words_TextRank_for_metrics_POS)\n",
        "\n",
        "print('\\n Для ключевых слов с шаблонами, полученных с помощью keyBERT: \\n')\n",
        "compute_metrics(reference_for_metrics_POS, key_words_keyBERT_for_metrics_POS)"
      ],
      "metadata": {
        "colab": {
          "base_uri": "https://localhost:8080/"
        },
        "id": "DBSObCo_9ByV",
        "outputId": "e76b9f7c-be4a-4281-9ea1-f90984ca6e9a"
      },
      "id": "DBSObCo_9ByV",
      "execution_count": 41,
      "outputs": [
        {
          "output_type": "stream",
          "name": "stdout",
          "text": [
            "Для ключевых слов с шаблонами, полученных с помощью RAKE: \n",
            "\n",
            "F-мера 0.1456953642384106\n",
            "Точность: 0.13414634146341464\n",
            "Полнота: 0.15942028985507245\n",
            "\n",
            " Для ключевых слов с шаблонами, полученных с помощью TextRank: \n",
            "\n",
            "F-мера 0.24468085106382975\n",
            "Точность: 0.19327731092436976\n",
            "Полнота: 0.3333333333333333\n",
            "\n",
            " Для ключевых слов с шаблонами, полученных с помощью keyBERT: \n",
            "\n",
            "F-мера 0.05128205128205128\n",
            "Точность: 0.2222222222222222\n",
            "Полнота: 0.028985507246376812\n"
          ]
        }
      ]
    },
    {
      "cell_type": "markdown",
      "source": [
        "## Ошибки автоматического выделения ключевых слов \n"
      ],
      "metadata": {
        "id": "wdjj07jvJDGN"
      },
      "id": "wdjj07jvJDGN"
    },
    {
      "cell_type": "markdown",
      "source": [
        "### RAKE\n",
        "\n",
        "При автоматическом выделении ключевых слов с помощью метода RAKE возникает несколько проблем:\n",
        "\n",
        "- как ключевые слова выделяются слова, близкие к стоп-словам, или биграммы, в состав которых входят эти слова (например, \"который\", \"который помещаться\");\n",
        "\n",
        "- часто выделяются глаголы и глагольные группы, которые при ручном аннотировании скорее не будут отнесены к ключевым словам (например, \"обращать внимание\");\n",
        "\n",
        "- среди ключевых слов оказывается довольно много числительных, которые кажутся полезными, например, для задачи суммаризации текста, но скорее не представляются \"прототипическими\" ключевыми словами (то есть такими, которые были бы отмечены при ручном аннотировании текстов) (например, \"2018 год\").\n",
        "\n",
        "Можно предположить, что многие из указанных проблем могут решиться добавлением нескольких дополнительных слов в список стоп-слов, а также, например, удалением из текстов отдельных частей речи (глаголов, числительных).\n",
        "\n",
        "### TextRank\n",
        "\n",
        "Среди недостатков этого метода выделения ключевых слов можно отметить следующее:\n",
        "\n",
        "- для каждого текста выделяется большое количество ключевых слов, многие из которых являются глаголами и не кажутся значимыми для текста (например, \"казаться\", \"подтвердиться\", \"дать\");\n",
        "\n",
        "- встречаются слова, близкие к стоп-словам (например, \"это\", \"который\");\n",
        "\n",
        "- среди ключевых слов встречается небольшое количество биграмм или триграмм.\n",
        "\n",
        "Для того, чтобы избежать этих проблем, можно расширить список стоп-слов, а также отбирать топ-n ключевых слов для текста (плюс можно удалить из текстов слова определённых частей речи, например, глаголы).\n",
        "\n",
        "С другой стороны, кажется, обширный список ключевых слов с большим количеством глаголов может считаться скорее плюсом в контексте решения задачи суммаризации текста.\n",
        "\n",
        "### keyBERT\n",
        "\n",
        "К недостаткам этого метода выделения ключевых слов может быть отнесено следующее:\n",
        "\n",
        "- если модели предлагается выделить униграммы, биграммы и триграммы, модель выделяет преимущественно триграммы, причём иногда практически идентичные (например, \"устроить слуховой аппарат\", \"сделать слуховой аппарат\");\n",
        "\n",
        "- при дефолтных параметрах в состав триграмм попадает довольно много стоп-слов (например, \"он\", \"что\");\n",
        "\n",
        "- среди ключевых слов и фраз встречается много глаголов.\n",
        "\n",
        "Возможно, первая проблема связана с небольшим объёмом и количеством текстов, которые подаются на вход модели (может быть, если бы тексты были объёмнее и их было бы больше, ключевые слова оказались бы более разнообразными). Вторая проблема может быть решена с помощью расширения списка стоп-слов. Третий недостаток может быть устранён, если удалить из текстов глаголы."
      ],
      "metadata": {
        "id": "Gr6B0bs1JJJp"
      },
      "id": "Gr6B0bs1JJJp"
    }
  ],
  "metadata": {
    "kernelspec": {
      "display_name": "Python 3",
      "language": "python",
      "name": "python3"
    },
    "language_info": {
      "codemirror_mode": {
        "name": "ipython",
        "version": 3
      },
      "file_extension": ".py",
      "mimetype": "text/x-python",
      "name": "python",
      "nbconvert_exporter": "python",
      "pygments_lexer": "ipython3",
      "version": "3.8.8"
    },
    "colab": {
      "provenance": [],
      "collapsed_sections": [
        "FeI6eIPo1SHt",
        "vqr9m4E7YUHx",
        "lvZDaRL98wrW",
        "YxJq0tQGqO-O"
      ]
    }
  },
  "nbformat": 4,
  "nbformat_minor": 5
}